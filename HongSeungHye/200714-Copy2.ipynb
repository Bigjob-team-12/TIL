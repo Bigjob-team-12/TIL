{
 "cells": [
  {
   "cell_type": "markdown",
   "metadata": {},
   "source": [
    "- 개체가 될 만한 것, 릴레이션이 될 만한 것을 찾아서 데이터 조각내고, 조각난 데이터를 합쳐서 원하는 데이터로 가져와야 함. 어떻게 할 지 생각해봐.\n",
    "- 트랙, 노래 길이, 부른 가수, 앨범, 장르, 사용자가 평가한 star rating, 몇 번 들었는지 count... 이 중 명사로 끝나는 개체 찾아야.\n",
    "- 명사로 끝나는 애들. column. 이걸 데이터 set이라고 하면 사람이 봤을 떄 feature라고 할 애들. 이 중 의존성 여부는 확인 필요.\n",
    "    - column의 후보들. entity의 후보들. 얘를 가지고 나눌 것. how? 앨범에 수많은 노래 수록. 앨범은 노래보다 큰 단위. 그리고 앨범은 한 가수가 특정 시기에 발표한 노래들의 모음. so 한 가수가 여러 개의 앨범을 소유할 수 있고, 하나의 앨범은 여러 노래로 구성, 각 노래는 노래에 맞는 길이, 횟수 등으로 구성. 그리고 각 노래는 발라드인지 메탈인지... 장르 있음. 장르 정보 생각해보면 노래와 별개. 노래에 종속된 게 아니라 장르가 따로 있어서, 어떤 노래는 거기서 하기도, 안 하기도. 같은 노래의 장르가 다를 수 있음. 앨범이나 노래에 종속되면 안 됨. 발라드 노래일 수도 있지만 여러 노래로 장르가 구성되니 곡, 앨범, 장르, 곡이 별개로 존재해야. 의존관계는 저런 그림으로 그릴 수 있음.\n",
    "    - 알 수 있는 것: 특정 가수 앨범 -> 테이블 -> 아티스트, 앨범 join하면 확인 가능. 특정 앨범 속한 노래: 앨범 -> 곡 join. 발라드 해당 노래 -> 장르와 노래 join. 특정 가수 앨범 중 발라드인 노래 -> 다 묶으면 됨. 이런 식으로 기호에 따라 조각난 데이터를 합쳐서, 서로 다른 형태의 정보 표현 가능. 이를 위해 DB 설계 by 관계형 모델.\n",
    "    - 엔티티를 뽑음. 각자 고유하며 의존 관계 갖고 있고 1:n, n:n 관계.\n",
    "    - 설계. 설계를 위해 필요한 것: 제일 쉬운 것부터. track, 노래라는 건 노래에 종속되어 있는 attribute. track이라는 테이블에 노래 관련을 심음. 다만 이 때 각 테이블에 PK 있는 게 좋음. PK는 unique해야 하면서 not null이어야 함. unique해야 한다 = 겹치는 값 안 됨. 노래방에 노래 제목 겹치는 경우 다수. so title은 unique하지 않으니 못 쓰고, length, count도 못 씀 -> pk 만들어줌 = id값. 테이블 설계, 안에 있을 것 판단, PK까지 설정 완료. PK 관계: 앨범에 속함. 어느 앨범에 속하는지 알아야. 앨범도 타이틀과 PK값 필요. 어디 id 넣을까? 누가 누구를 참조해야 할까? 앨범이 참조하면 FK를 쭉 써야 함. 이것도 가능. list 타입으로. 그러나 좋지 않은 방법. track에 앨범 참조하게 FK. 데이터 최소화 가능. PK는 int일 것. then 1번을 참조하고 있는 track만 부르면 됨. join은 select하되 join을 앨범에 join. on 절에 id = album id.\n",
    "    - 마찬가지. 앨범이 있고, 앨범이 아티스트에게 속함.\n",
    "    - 앨범도 아티스트 테이블. 테이블 조각 나있고, 장르 별도의 테이블. 변화 발생: track에 fk 추가. 장르 id.\n",
    "- 테이블 설계. 앞의 ERD만 보고 설계 가능. id PK not null name... char형 없으니 text, 앨범의 제목이 없으면 안 될 테니 not null -> 테이블 완성. 마찬가지로 생성 가능. 그게 여기 있는 코드들.\n",
    "- 여기서 못 봤던 것: auto increment. 자동 id 부여. 더 이상 id 신경 안 써도 됨.\n",
    "- PK일 때 또는 unique할 떄 등록 가능.\n",
    "- 4개 테이블 생성 후 insert. insert시 필요한 것: id 검색 다수 필요. 노래 넣음 -> 순서가 track에 다짜고짜 노래 못 넣음. FK 부를 수 없으니. 장르 입력해놓고, 각 장르에 해당되는 id 가져오고, 아티스트 입력, 아티스트 id 가져오고, 아티스트 id로 앨범 만들고... 거꾸로 id 받아올 것. 물론 변수로 각각 불러와서 입력해도 되고, 쿼리 길게 쓰면 쿼리 insert 부분에도 select 가능. 그렇게 해서 어렵게 만들면...\n",
    "- id를 직접 넣어준 케이스.\n",
    "- 그러면 이런 형태의 데이터 구성.\n",
    "- 우리가 할 것: SQLite로 이런 정보 입력 시 어떻게 엔티티 나눠서 테이블 구성하고 column, 제약조건, datatype, 순서대로 데이터 입력 등. 여기까지 준비되면 join해서 원하는 형태로 select. so 순서에 따름. 기호에 따라 가수와 제목, 장르별 정렬, 기능을 돌아가게 수행해야 함. 원하는 게 뭔지 모르니까. so 플레이리스트 보면 탭을 없앨 수도, 추가할 수도, 정렬할 수도, 뒷단에서 작업 가능. 우리는 이걸 만들 것. 최종적으로 이런 식으로, 실제 입력된 걸 join해서 가져온 결과. title, name, album, 장르... 다른 테이블에서 하나씩 가져와 하나의 row로 묶음."
   ]
  },
  {
   "cell_type": "code",
   "execution_count": 74,
   "metadata": {},
   "outputs": [],
   "source": [
    "cur.close()\n",
    "conn.close()"
   ]
  },
  {
   "cell_type": "code",
   "execution_count": 3,
   "metadata": {},
   "outputs": [],
   "source": [
    "import sqlite3\n",
    "conn = sqlite3.connect('playlist.db')\n",
    "cur = conn.cursor()"
   ]
  },
  {
   "cell_type": "code",
   "execution_count": 6,
   "metadata": {},
   "outputs": [
    {
     "data": {
      "text/plain": [
       "<sqlite3.Cursor at 0x1ca736990a0>"
      ]
     },
     "execution_count": 6,
     "metadata": {},
     "output_type": "execute_result"
    }
   ],
   "source": [
    "cur.executescript('''\n",
    "    DROP TABLE IF EXISTS Artist;\n",
    "    CREATE TABLE Artist(\n",
    "        id INTEGER PRIMARY KEY AUTOINCREMENT NOT NULL,\n",
    "        title TEXT NOT NULL\n",
    "    );\n",
    "    DROP TABLE IF EXISTS Album;\n",
    "    CREATE TABLE Album(\n",
    "        id INTEGER PRIMARY KEY AUTOINCREMENT NOT NULL,\n",
    "        title TEXT NOT NULL,\n",
    "        Artist_id INT NOT NULL\n",
    "    );\n",
    "    DROP TABLE IF EXISTS Genre;\n",
    "    CREATE TABLE Genre(\n",
    "        id INTEGER PRIMARY KEY AUTOINCREMENT NOT NULL,\n",
    "        title TEXT NOT NULL        \n",
    "    );\n",
    "    DROP TABLE IF EXISTS Track;\n",
    "    CREATE TABLE Track(\n",
    "        id INTEGER PRIMARY KEY AUTOINCREMENT NOT NULL,\n",
    "        title TEXT NOT NULL,\n",
    "        length INT NOT NULL,\n",
    "        rating INT NOT NULL,\n",
    "        count INT NOT NULL,\n",
    "        Album_id INT NOT NULL,\n",
    "        Genre_id INT NOT NULL\n",
    "    );    \n",
    "''')"
   ]
  },
  {
   "cell_type": "markdown",
   "metadata": {},
   "source": [
    "- PK, FK 물려있는 상황.\n",
    "- 데이터는 FK 입력을 위해 제일 위 데이터부터 진행해야.\n",
    "- 방법 1: 꼬리에 꼬리 물기"
   ]
  },
  {
   "cell_type": "code",
   "execution_count": 7,
   "metadata": {},
   "outputs": [
    {
     "data": {
      "text/plain": [
       "<sqlite3.Cursor at 0x1ca736990a0>"
      ]
     },
     "execution_count": 7,
     "metadata": {},
     "output_type": "execute_result"
    }
   ],
   "source": [
    "cur.execute('INSERT INTO Artist(title) VALUES(?)', ['Led Zepplin'])"
   ]
  },
  {
   "cell_type": "code",
   "execution_count": 8,
   "metadata": {},
   "outputs": [
    {
     "data": {
      "text/plain": [
       "1"
      ]
     },
     "execution_count": 8,
     "metadata": {},
     "output_type": "execute_result"
    }
   ],
   "source": [
    "cur.lastrowid"
   ]
  },
  {
   "cell_type": "code",
   "execution_count": 10,
   "metadata": {},
   "outputs": [
    {
     "data": {
      "text/plain": [
       "1"
      ]
     },
     "execution_count": 10,
     "metadata": {},
     "output_type": "execute_result"
    }
   ],
   "source": [
    "cur.execute('SELECT id FROM Artist WHERE title=?', ['Led Zepplin'])\n",
    "cur.fetchone()[0]"
   ]
  },
  {
   "cell_type": "code",
   "execution_count": 11,
   "metadata": {},
   "outputs": [
    {
     "data": {
      "text/plain": [
       "<sqlite3.Cursor at 0x1ca736990a0>"
      ]
     },
     "execution_count": 11,
     "metadata": {},
     "output_type": "execute_result"
    }
   ],
   "source": [
    "cur.execute('''INSERT INTO Album(title, Artist_id)\n",
    "    VALUES(?, ?)''', ['IV', cur.lastrowid])"
   ]
  },
  {
   "cell_type": "code",
   "execution_count": 12,
   "metadata": {},
   "outputs": [
    {
     "data": {
      "text/plain": [
       "1"
      ]
     },
     "execution_count": 12,
     "metadata": {},
     "output_type": "execute_result"
    }
   ],
   "source": [
    "cur.lastrowid"
   ]
  },
  {
   "cell_type": "markdown",
   "metadata": {},
   "source": [
    "- 방법 2"
   ]
  },
  {
   "cell_type": "code",
   "execution_count": 13,
   "metadata": {},
   "outputs": [
    {
     "data": {
      "text/plain": [
       "<sqlite3.Cursor at 0x1ca736990a0>"
      ]
     },
     "execution_count": 13,
     "metadata": {},
     "output_type": "execute_result"
    }
   ],
   "source": [
    "cur.execute('''\n",
    "    INSERT INTO Artist VALUES(NULL, ?)''', ['AC/DC']) #id값은 autoincrement. null이라고 하면 들어가긴 함."
   ]
  },
  {
   "cell_type": "code",
   "execution_count": 14,
   "metadata": {},
   "outputs": [
    {
     "data": {
      "text/plain": [
       "2"
      ]
     },
     "execution_count": 14,
     "metadata": {},
     "output_type": "execute_result"
    }
   ],
   "source": [
    "cur.lastrowid"
   ]
  },
  {
   "cell_type": "code",
   "execution_count": 16,
   "metadata": {},
   "outputs": [
    {
     "data": {
      "text/plain": [
       "<sqlite3.Cursor at 0x1ca736990a0>"
      ]
     },
     "execution_count": 16,
     "metadata": {},
     "output_type": "execute_result"
    }
   ],
   "source": [
    "cur.execute('''\n",
    "    INSERT INTO Album VALUES(NULL, ?, (\n",
    "        SELECT id FROM Artist WHERE title=? LIMIT 0, 1\n",
    "    ))\n",
    "''', ['Who Made Who', 'AC/DC']) #하나만 ID값 가져와서 넣기"
   ]
  },
  {
   "cell_type": "code",
   "execution_count": 17,
   "metadata": {},
   "outputs": [
    {
     "data": {
      "text/plain": [
       "(2, 4)"
      ]
     },
     "execution_count": 17,
     "metadata": {},
     "output_type": "execute_result"
    }
   ],
   "source": [
    "cur.lastrowid, conn.total_changes"
   ]
  },
  {
   "cell_type": "code",
   "execution_count": 18,
   "metadata": {},
   "outputs": [],
   "source": [
    "conn.commit()"
   ]
  },
  {
   "attachments": {
    "image.png": {
     "image/png": "[encoded data removed]"
    }
   },
   "cell_type": "markdown",
   "metadata": {},
   "source": [
    "![image.png](attachment:image.png)"
   ]
  },
  {
   "cell_type": "markdown",
   "metadata": {},
   "source": [
    "- FK 2번 필요 so select문 2번 사용. 아티스트부터 따라가는 정확한 연결 위해서는 select문 더 필요."
   ]
  },
  {
   "cell_type": "code",
   "execution_count": 21,
   "metadata": {},
   "outputs": [
    {
     "data": {
      "text/plain": [
       "<sqlite3.Cursor at 0x1ca736990a0>"
      ]
     },
     "execution_count": 21,
     "metadata": {},
     "output_type": "execute_result"
    }
   ],
   "source": [
    "cur.executemany('INSERT INTO Genre(title) VALUES(?)', [('Rock',), ('Metal',)])"
   ]
  },
  {
   "cell_type": "code",
   "execution_count": 22,
   "metadata": {},
   "outputs": [
    {
     "data": {
      "text/plain": [
       "<sqlite3.Cursor at 0x1ca736990a0>"
      ]
     },
     "execution_count": 22,
     "metadata": {},
     "output_type": "execute_result"
    }
   ],
   "source": [
    "#곡 정보 자동으로 넣기\n",
    "data = [\n",
    "    ('Black Dog', 5, 297, 0, 'Who Made Who', 'Rock'),\n",
    "    ('Stairway', 5, 297, 0, 'Who Made Who', 'Rock'),\n",
    "    ('About to Rock', 5, 297, 0, 'IV', 'Metal'),\n",
    "    ('Who Made Who', 5, 297, 0, 'IV', 'Metal'),\n",
    "]\n",
    "\n",
    "cur.executemany('''\n",
    "    INSERT INTO Track VALUES(NULL, ?, ?, ?, ?, (\n",
    "        SELECT id FROM Album WHERE title=? LIMIT 0, 1\n",
    "    ), (\n",
    "        SELECT id FROM Genre WHERE title=? LIMIT 0, 1\n",
    "    ))\n",
    "''', data)"
   ]
  },
  {
   "cell_type": "markdown",
   "metadata": {},
   "source": [
    "- 스크립트 여러 번 실행하는데 id 없으면 문제 발생 가능. 이 경우 if문 써도 됨. T라고 하면, T가 0보다 크면 T 쓰고, 아니면 뭘 쓰고, 이런 식 가능. 이런 안전장치 없다고 가정."
   ]
  },
  {
   "cell_type": "code",
   "execution_count": 23,
   "metadata": {},
   "outputs": [],
   "source": [
    "conn.commit()"
   ]
  },
  {
   "attachments": {
    "image.png": {
     "image/png": "[encoded data removed]"
    }
   },
   "cell_type": "markdown",
   "metadata": {},
   "source": [
    "![image.png](attachment:image.png)"
   ]
  },
  {
   "cell_type": "markdown",
   "metadata": {},
   "source": [
    "- select문을 쓰니까 id 안 빼도 등록 가능. 각 가수당 앨범이 하나 뿐이면 구문 바꾸면 가수 이름 넣고 PK값을 FK로 넘어가게 할 수 있음.\n",
    "- execute, script, many, lastrowid, commit 전 로컬 file disk 미적용, commit 습관 등 봤음.\n",
    "- 데이터가 준비되었으니 이제 select, join해서 가져오면 됨.\n",
    "- 이 DB를 다른 방식으로 또 이용할 것."
   ]
  },
  {
   "cell_type": "markdown",
   "metadata": {},
   "source": [
    "- 우선 join 안 하면 벌어지는 일 확인."
   ]
  },
  {
   "cell_type": "code",
   "execution_count": 24,
   "metadata": {},
   "outputs": [
    {
     "data": {
      "text/plain": [
       "[(1, 'Led Zepplin', 1, 'IV', 1),\n",
       " (1, 'Led Zepplin', 2, 'Who Made Who', 2),\n",
       " (2, 'AC/DC', 1, 'IV', 1),\n",
       " (2, 'AC/DC', 2, 'Who Made Who', 2)]"
      ]
     },
     "execution_count": 24,
     "metadata": {},
     "output_type": "execute_result"
    }
   ],
   "source": [
    "cur.execute('SELECT * FROM Artist, Album')\n",
    "cur.fetchall()"
   ]
  },
  {
   "cell_type": "markdown",
   "metadata": {},
   "source": [
    "- cross join 됨. 한 앨범 당 한 가수 나와야 하는데 모든 combination을 만듬.\n",
    "- 흔히 쓰는 방법: 거기에 where 쓰기.\n",
    "- artist id = album의 artist id"
   ]
  },
  {
   "cell_type": "code",
   "execution_count": 25,
   "metadata": {},
   "outputs": [
    {
     "data": {
      "text/plain": [
       "[(1, 'Led Zepplin', 1, 'IV', 1), (2, 'AC/DC', 2, 'Who Made Who', 2)]"
      ]
     },
     "execution_count": 25,
     "metadata": {},
     "output_type": "execute_result"
    }
   ],
   "source": [
    "cur.execute('''SELECT * FROM Artist, Album\n",
    "            WHERE Artist.id=Album.Artist_id''')\n",
    "cur.fetchall()"
   ]
  },
  {
   "cell_type": "markdown",
   "metadata": {},
   "source": [
    "- 위 경우는 콤비네이션으로 메모리 다 쓴 후 필터링하는 것. 대신 join 쓰자.\n",
    "- 가져올 건 앨범. 앨범을 기준으로. 그러면 inner join artist on...\n",
    "- 키값 맞는 애들끼리. 결과 같아보이지만 다름."
   ]
  },
  {
   "cell_type": "code",
   "execution_count": 27,
   "metadata": {},
   "outputs": [
    {
     "data": {
      "text/plain": [
       "[(1, 'IV', 1, 1, 'Led Zepplin'), (2, 'Who Made Who', 2, 2, 'AC/DC')]"
      ]
     },
     "execution_count": 27,
     "metadata": {},
     "output_type": "execute_result"
    }
   ],
   "source": [
    "cur.execute('''SELECT * FROM Album\n",
    "            INNER JOIN Artist\n",
    "            ON Artist.id=Album.Artist_id''')\n",
    "cur.fetchall()"
   ]
  },
  {
   "cell_type": "markdown",
   "metadata": {},
   "source": [
    "- 더 섞기. 알고 싶은 것 = Track. + 별칭 지어주기"
   ]
  },
  {
   "cell_type": "code",
   "execution_count": 29,
   "metadata": {},
   "outputs": [
    {
     "data": {
      "text/plain": [
       "[(1, 'Black Dog', 5, 297, 0, 2, 1, 2, 'Who Made Who', 2),\n",
       " (2, 'Stairway', 5, 297, 0, 2, 1, 2, 'Who Made Who', 2),\n",
       " (3, 'About to Rock', 5, 297, 0, 1, 2, 1, 'IV', 1),\n",
       " (4, 'Who Made Who', 5, 297, 0, 1, 2, 1, 'IV', 1)]"
      ]
     },
     "execution_count": 29,
     "metadata": {},
     "output_type": "execute_result"
    }
   ],
   "source": [
    "cur.execute('''SELECT * FROM Track as A\n",
    "            INNER JOIN Album as B\n",
    "            ON A.Album_id=B.id''')\n",
    "cur.fetchall()"
   ]
  },
  {
   "cell_type": "code",
   "execution_count": 30,
   "metadata": {},
   "outputs": [
    {
     "data": {
      "text/plain": [
       "[('Black Dog', 'Who Made Who'),\n",
       " ('Stairway', 'Who Made Who'),\n",
       " ('About to Rock', 'IV'),\n",
       " ('Who Made Who', 'IV')]"
      ]
     },
     "execution_count": 30,
     "metadata": {},
     "output_type": "execute_result"
    }
   ],
   "source": [
    "cur.execute('''SELECT A.title, B.title\n",
    "            FROM Track as A\n",
    "            INNER JOIN Album as B\n",
    "            ON A.Album_id=B.id''')\n",
    "cur.fetchall()"
   ]
  },
  {
   "cell_type": "code",
   "execution_count": 31,
   "metadata": {},
   "outputs": [
    {
     "data": {
      "text/plain": [
       "[('Black Dog', 'Who Made Who', 'Rock'),\n",
       " ('Stairway', 'Who Made Who', 'Rock'),\n",
       " ('About to Rock', 'IV', 'Metal'),\n",
       " ('Who Made Who', 'IV', 'Metal')]"
      ]
     },
     "execution_count": 31,
     "metadata": {},
     "output_type": "execute_result"
    }
   ],
   "source": [
    "cur.execute('''SELECT A.title, B.title, C.title\n",
    "            FROM Track as A\n",
    "            INNER JOIN Album AS B\n",
    "            ON A.Album_id=B.id\n",
    "            INNER JOIN Genre AS C\n",
    "            ON A.Genre_id=C.id''')\n",
    "cur.fetchall()"
   ]
  },
  {
   "cell_type": "code",
   "execution_count": 32,
   "metadata": {},
   "outputs": [
    {
     "data": {
      "text/plain": [
       "[('Black Dog', 'Who Made Who', 'Rock'), ('Stairway', 'Who Made Who', 'Rock')]"
      ]
     },
     "execution_count": 32,
     "metadata": {},
     "output_type": "execute_result"
    }
   ],
   "source": [
    "cur.execute('''SELECT A.title, B.title, C.title\n",
    "            FROM Track as A\n",
    "            INNER JOIN Album AS B\n",
    "            ON A.Album_id=B.id\n",
    "            INNER JOIN Genre AS C\n",
    "            ON A.Genre_id=C.id\n",
    "            WHERE C.title LIKE '%Rock%'\n",
    "            ''')\n",
    "cur.fetchall()"
   ]
  },
  {
   "cell_type": "markdown",
   "metadata": {},
   "source": [
    "- 앨범, 트랙을 묶어서 락 장르만 가져온 경우."
   ]
  },
  {
   "cell_type": "code",
   "execution_count": 34,
   "metadata": {},
   "outputs": [
    {
     "data": {
      "text/plain": [
       "[('Black Dog', 'Who Made Who', 'Rock', 'AC/DC'),\n",
       " ('Stairway', 'Who Made Who', 'Rock', 'AC/DC'),\n",
       " ('About to Rock', 'IV', 'Metal', 'Led Zepplin'),\n",
       " ('Who Made Who', 'IV', 'Metal', 'Led Zepplin')]"
      ]
     },
     "execution_count": 34,
     "metadata": {},
     "output_type": "execute_result"
    }
   ],
   "source": [
    "#아티스트 정보도 섞기\n",
    "cur.execute('''SELECT A.title, B.title, C.title, D.title\n",
    "            FROM Track as A\n",
    "            INNER JOIN Album AS B\n",
    "            ON A.Album_id=B.id\n",
    "            INNER JOIN Genre AS C\n",
    "            ON A.Genre_id=C.id\n",
    "            INNER JOIN Artist AS D\n",
    "            on B.Artist_id = D.id\n",
    "            ''')\n",
    "cur.fetchall()"
   ]
  },
  {
   "cell_type": "markdown",
   "metadata": {},
   "source": [
    "- inner join으로 4 테이블 다 섞었음.\n",
    "- 입력 순서대로 하고 싶다면?"
   ]
  },
  {
   "cell_type": "code",
   "execution_count": 35,
   "metadata": {},
   "outputs": [
    {
     "data": {
      "text/plain": [
       "[('Black Dog', 'Who Made Who', 'Rock', 'AC/DC'),\n",
       " ('Stairway', 'Who Made Who', 'Rock', 'AC/DC'),\n",
       " ('About to Rock', 'IV', 'Metal', 'Led Zepplin'),\n",
       " ('Who Made Who', 'IV', 'Metal', 'Led Zepplin')]"
      ]
     },
     "execution_count": 35,
     "metadata": {},
     "output_type": "execute_result"
    }
   ],
   "source": [
    "cur.execute('''SELECT A.title, B.title, C.title, D.title\n",
    "            FROM Track as A\n",
    "            INNER JOIN Album AS B\n",
    "            ON A.Album_id=B.id\n",
    "            INNER JOIN Genre AS C\n",
    "            ON A.Genre_id=C.id\n",
    "            INNER JOIN Artist AS D\n",
    "            on B.Artist_id = D.id\n",
    "            ORDER BY D.title ASC\n",
    "            ''')\n",
    "cur.fetchall() #가수 ABC순"
   ]
  },
  {
   "cell_type": "code",
   "execution_count": 36,
   "metadata": {},
   "outputs": [
    {
     "data": {
      "text/plain": [
       "[('About to Rock', 'IV', 'Metal', 'Led Zepplin'),\n",
       " ('Who Made Who', 'IV', 'Metal', 'Led Zepplin'),\n",
       " ('Black Dog', 'Who Made Who', 'Rock', 'AC/DC'),\n",
       " ('Stairway', 'Who Made Who', 'Rock', 'AC/DC')]"
      ]
     },
     "execution_count": 36,
     "metadata": {},
     "output_type": "execute_result"
    }
   ],
   "source": [
    "cur.execute('''SELECT A.title, B.title, C.title, D.title\n",
    "            FROM Track as A\n",
    "            INNER JOIN Album AS B\n",
    "            ON A.Album_id=B.id\n",
    "            INNER JOIN Genre AS C\n",
    "            ON A.Genre_id=C.id\n",
    "            INNER JOIN Artist AS D\n",
    "            on B.Artist_id = D.id\n",
    "            ORDER BY D.id ASC\n",
    "            ''')\n",
    "cur.fetchall() #가수 입력순"
   ]
  },
  {
   "cell_type": "markdown",
   "metadata": {},
   "source": [
    "- 다른 연산자 각자 써보기. 5분~10분 사이 곡, 발행 연도... between.\n",
    "- DB는 RDBMS 사용."
   ]
  },
  {
   "cell_type": "markdown",
   "metadata": {},
   "source": [
    "- 실제 우리 눈에 보이는 Playlist는 데이터가 조각난 형태를 join으로 가져올 수 있음. 되도록 개발할 떄 이런 식으로 하는 게 좋음."
   ]
  },
  {
   "cell_type": "markdown",
   "metadata": {},
   "source": [
    "- ORM\n",
    "    - 관계형 DB와 object(객체)를 mapping. DBMS는 아님. DB와 무관. 단지 쓰기 편하게 바꿔줌. 프로그래밍 테크닉. 대신 해주는 애들을 총칭해서 ORM이라고 부름. 특히 파이썬에서 SQLAlchemy 많이 사용.\n",
    "    - 실제 RDB에 있는 ERD와 object로서 객체지향으로 보는 걸 매핑해줌.\n",
    "    - 매핑 필요 이유는?\n",
    "    - 해주는 역할: ERD와 실제 개발 괴리 큼. 실제 개발 시 온전히 테이블만 쓰지 않음. so 시간 많이 쏟는 곳: 쿼리 간단함에도 여러 줄 됨. SQL문 고치고 수정하는 과정에서 오류 다발.\n",
    "    - 이와 같은 미스매치 줄이기 위해 사용.\n",
    "    - 자동으로 매핑해주나, 비즈니스 모델에 맞춤.\n",
    "    - 단점: 오버헤드 들어감. DB, 프로그램 따로 만들고 매핑까지 시켜야 하니. 대신 객체지향 개발자에게 편함.\n",
    "- 비즈니스 관점에서 비즈니스 모델만 생각할 수 있다는 것은?\n",
    "    - 게시판을 하나 만들 거고, 거기서 동작해야 하는 동작에 대한 기능 요구사항. user라고 할 수 있는 건 사용자가 하나 있고, 사용자가 하는 액션으로는 질문 가능. 그리고 질문에는 답변 가능. tag도 달 수 있음. 질문시. 그 태그가 자연어가 아니라 미리 정해진 pool에서만 가져가야 함. 요구사항 디테일한 게시판.\n",
    "    - 게시판에 질문 남길 때마다 작성자, 사용자가 질문하면서 태그를 달 것. 그 태그가 사용될 떄마다 +1, 태그 빠질 때마다 -1 되어야 함.\n",
    "    - 실제 만든다고 가정하면 이런 식으로 그리기도. 사용자는 질문을 달 수 있고, 질문에 답변 가능하고, 질문에 태깅 가능하고. 사용자는 질문을 안 할 수도 있고 여럿 할 수도 있으니 1:n의 관계. 질문과 답변도 1:n, 사용자와 답변도 1:n, 질문과 태그는 n:n. 이런 식으로 테이블 설계.\n",
    "    - 이렇게 테이블 설계함. 밑줄은 PK, 앞의 그림별로 테이블 만들어짐. 이 상태에서...\n",
    "    - 질문해보자. 코드 만들어줘야 함. ex) 내가 데이터를 수집했는데, 데이터의 중요한 키워드가 있다면 카운팅해줌. 그 떄 실제 코드를 어떻게 짜야 하나?\n",
    "    - 질문 등록해야. question에, 특정 사용자가. then 질문을 등록했고, 앞의 그림에서 보면 질문과 태그 사이 연관관계 존재. 태그의 삽입 위치 등 정보 알고 있어야.\n",
    "    - 파이썬, RDB. 2개의 태그가 태그 풀에 있는지 찾아야 하고, 다행히 PK를 찾고 나서는 둘 다 등록되어 있음.\n",
    "    - so question tag에 1번 질문에서 1번 태그 사용, 2번 태그 2번 질문... 기록. 실컷 블로그에 글을 쓰고 태그란에 2개 태그 집어넣은 상태. 뒷단에서 ajax든 자동 처리 루틴이든 찾았을 것. 그 다음 태그 사용 시마다 +1 또는 -1 해주라고 했음. then id값 이용해도 되고, name 이용해도 되고. 키워드 해당되는 애를 count +1 하도록 업데이트 해줌. 여기까지 해야 질문이 끝남.\n",
    "    - 질문이라는 액션 하나에 이만큼의 쿼리가 필요. 실제 개발 시 다이어그램과 맞지도 않고, 작업해야 하는 부가사항이 너무 많음. 특히 SQL 잘 모르면 고생.\n",
    "    - 이건 단순. 없던 질문 추가니까. 문제는 기존 질문 추가.\n",
    "    - 질문 수정 -> 새로 추가된 건 +1, 사라졌으면 태그 -1 해줘야. 기존에 없던 ORM. Alchemy는 삭제됨. 수정. 서비스 개발보다 쿼리 처리에 더 많은 힘을 쏟아야 함 -> 사용자 서비스 이용 관점, 비즈니스 모델 관점에서는 상관 없는 일을 하고 있는 것. 문제 수행에 있어서.\n",
    "    - 괴리 너무 큼 -> 이런 형태 바꿔야 = ORM의 목표.\n",
    "- 접근 방법: 객체 형태로 접근.\n",
    "    - 질문 객체와 tag 객체 존재. 여기에 private 변수로 속성에 대한 정의 -> 객체 속성만 건드려주면 복잡한 쿼리 사용 없이 간편히 해결 가능 = ORM.\n",
    "    - 특히 ORM은 객체지향 지원하니 간편히 사용 가능; 이런 형태를 저런 형태로 바꿔서, 연동해서 객체로 해보자, 그게 ORM을 쓰는 이유.\n",
    "    - 이유는 충분히 이해 될 것.\n",
    "    - ORM을 해주는 것 많은데 SQLalchemy 쓰는 이유: 여러 DB 지원. SQLite, MySQL... 다 지원. 웹서비스도 django, plask 지원. 즉 여러 군데에서 사용 가능. flask에 연동 가능한 DB 선택하고, 정 안 되면 SQLite 쓰고, 중간에 객체 통해 접근하고 싶으면 SQLalchemy로 연동만 시켜주면 객체 조작으로 SQL문 몰라도 접근 가능."
   ]
  },
  {
   "cell_type": "markdown",
   "metadata": {},
   "source": [
    "- SQLAlchemy 쓸 것. 장점처럼 잘 정리됨. DB를 위한 프로그래밍... 파이썬에서 많이 쓰이고... 특히 다양한 DB 지원이 장점. 다양한 DB 지원 -> 특성에 따라 지원하는 SQL문이나 connection이 다른 여러 DBMS 통합 관리 가능. 통합 관리해서 덩치 조금 클 것.\n",
    "- 아키텍처. 밑의 DBAPI, 각 DB마다 서로 다른 API. API 각자 연결하는 애 있을 거고, connection pooling은 커넥션 관리. dialect는 실제 연결. dialect로 DB에 접근.\n",
    "    - 엔진: 얘들이 표현하는 SQL을 객체로 접근할 거니까, 객체에 수정 발생 시 대신 처리. ORM이 윗단에 있고, 코어단이 되면 ORM으로 넘어갈 것. 2-step으로.\n",
    "- 엔진. 얘가 starting point. 밑에 있는 dialect, pool이 background단. 우리는 엔진을 통해 접근, 커넥션 설정, 알아서 설정한 DB에 가서 커넥션 만들도 커서 객체 들고 있을 것.\n",
    "    - dialect: SQL문 안 써도 해석해주는 부분.\n",
    "- 이렇게 동작."
   ]
  },
  {
   "cell_type": "code",
   "execution_count": 37,
   "metadata": {},
   "outputs": [
    {
     "data": {
      "text/plain": [
       "'1.3.13'"
      ]
     },
     "execution_count": 37,
     "metadata": {},
     "output_type": "execute_result"
    }
   ],
   "source": [
    "#설치하기\n",
    "import sqlalchemy\n",
    "sqlalchemy.__version__"
   ]
  },
  {
   "cell_type": "markdown",
   "metadata": {},
   "source": [
    "- sql 알케미: SQL문으로 자동 변환 후 DB 접근. lazy connecting. 내 작업 바로 반영 안 됨. 접속하고 왔다갔다하고 끝날 것.\n",
    "- 나중에는 객체, DB 싱크 안 맞을 수 있음.\n",
    "- create 엔진부터. 우선 DB 접근 방식. 저렇게 접근하는데, 우린 SQLite 쓰니까 드라이버 없고, 유저네임, PW 없고, port번호, host... 다 없음. ///. 그리고 나서 file 이름 써주면 됨.\n",
    "- echo: 중간과정 봐야 함. 개발 과정이니까. so True."
   ]
  },
  {
   "cell_type": "code",
   "execution_count": 39,
   "metadata": {},
   "outputs": [],
   "source": [
    "from sqlalchemy import create_engine\n",
    "engine = create_engine(\"sqlite:///:memory:\", echo = True)"
   ]
  },
  {
   "cell_type": "markdown",
   "metadata": {},
   "source": [
    "- 객체로 접근. table 객체 존재. column도 객체 존재. 얘들이 어디 들어있냐? metadata 전체에. 테이블 관련 기존 테이블 컬럼, 옵션, or, and... 다 저기 있음. 메타 데이터에서 상속받아 만들 것.\n",
    "- sqlalchemy에서 보면 table, column, meta data, FK... 다 가져옴.\n",
    "- metadata를 하나 만들고, 상속받아서 table 객체 만들 것. 저렇게 써있는 걸 보니 아마 테이블 이름, bind 필요할 것. 그리고 그 뒤에 argument value로 필요한 컬럼, 컬럼 객체, 컬럼명, 데이터 타입, PK, FK... 특정 DBMS가 FK를 지원하니 저런 게 존재하는 듯. 이렇게 하면 2개의 테이블, Users와 Address 생김. 객체 상으로. DB가 아님.\n",
    "- 두 테이블 연결 by PK, FK: metadata로 다 만들어놓고 할 것.\n",
    "- 이 때도 메모리 상에만 있음. DB 미접근. lazy connecting.\n",
    "- 만들어보자."
   ]
  },
  {
   "cell_type": "code",
   "execution_count": 40,
   "metadata": {},
   "outputs": [],
   "source": [
    "from sqlalchemy import Table, Column, Integer, String, MetaData, ForeignKey"
   ]
  },
  {
   "cell_type": "code",
   "execution_count": 41,
   "metadata": {},
   "outputs": [],
   "source": [
    "meta = MetaData()\n",
    "\n",
    "users = Table('users', meta,\n",
    "             Column('id', Integer, primary_key=True),\n",
    "             Column('name', String),\n",
    "             Column('fullname', String),\n",
    ")\n",
    "\n",
    "addr = Table('address', meta,\n",
    "                 Column('id', Integer, primary_key=True),\n",
    "                 Column('user_id', None, ForeignKey('users.id')),\n",
    "                 Column('email_address', String, nullable=False)\n",
    ") #null 허용"
   ]
  },
  {
   "cell_type": "markdown",
   "metadata": {},
   "source": [
    "테이블 아니고 객체만 생성한 것."
   ]
  },
  {
   "cell_type": "code",
   "execution_count": 42,
   "metadata": {},
   "outputs": [
    {
     "data": {
      "text/plain": [
       "Table('users', MetaData(bind=None), Column('id', Integer(), table=<users>, primary_key=True, nullable=False), Column('name', String(), table=<users>), Column('fullname', String(), table=<users>), schema=None)"
      ]
     },
     "execution_count": 42,
     "metadata": {},
     "output_type": "execute_result"
    }
   ],
   "source": [
    "users"
   ]
  },
  {
   "cell_type": "markdown",
   "metadata": {},
   "source": [
    "이렇게."
   ]
  },
  {
   "cell_type": "code",
   "execution_count": 43,
   "metadata": {},
   "outputs": [
    {
     "name": "stdout",
     "output_type": "stream",
     "text": [
      "2020-07-14 15:40:23,931 INFO sqlalchemy.engine.base.Engine SELECT CAST('test plain returns' AS VARCHAR(60)) AS anon_1\n"
     ]
    },
    {
     "name": "stderr",
     "output_type": "stream",
     "text": [
      "INFO:sqlalchemy.engine.base.Engine:SELECT CAST('test plain returns' AS VARCHAR(60)) AS anon_1\n"
     ]
    },
    {
     "name": "stdout",
     "output_type": "stream",
     "text": [
      "2020-07-14 15:40:23,935 INFO sqlalchemy.engine.base.Engine ()\n"
     ]
    },
    {
     "name": "stderr",
     "output_type": "stream",
     "text": [
      "INFO:sqlalchemy.engine.base.Engine:()\n"
     ]
    },
    {
     "name": "stdout",
     "output_type": "stream",
     "text": [
      "2020-07-14 15:40:23,938 INFO sqlalchemy.engine.base.Engine SELECT CAST('test unicode returns' AS VARCHAR(60)) AS anon_1\n"
     ]
    },
    {
     "name": "stderr",
     "output_type": "stream",
     "text": [
      "INFO:sqlalchemy.engine.base.Engine:SELECT CAST('test unicode returns' AS VARCHAR(60)) AS anon_1\n"
     ]
    },
    {
     "name": "stdout",
     "output_type": "stream",
     "text": [
      "2020-07-14 15:40:23,939 INFO sqlalchemy.engine.base.Engine ()\n"
     ]
    },
    {
     "name": "stderr",
     "output_type": "stream",
     "text": [
      "INFO:sqlalchemy.engine.base.Engine:()\n"
     ]
    },
    {
     "name": "stdout",
     "output_type": "stream",
     "text": [
      "2020-07-14 15:40:23,941 INFO sqlalchemy.engine.base.Engine PRAGMA main.table_info(\"users\")\n"
     ]
    },
    {
     "name": "stderr",
     "output_type": "stream",
     "text": [
      "INFO:sqlalchemy.engine.base.Engine:PRAGMA main.table_info(\"users\")\n"
     ]
    },
    {
     "name": "stdout",
     "output_type": "stream",
     "text": [
      "2020-07-14 15:40:23,942 INFO sqlalchemy.engine.base.Engine ()\n"
     ]
    },
    {
     "name": "stderr",
     "output_type": "stream",
     "text": [
      "INFO:sqlalchemy.engine.base.Engine:()\n"
     ]
    },
    {
     "name": "stdout",
     "output_type": "stream",
     "text": [
      "2020-07-14 15:40:23,944 INFO sqlalchemy.engine.base.Engine PRAGMA temp.table_info(\"users\")\n"
     ]
    },
    {
     "name": "stderr",
     "output_type": "stream",
     "text": [
      "INFO:sqlalchemy.engine.base.Engine:PRAGMA temp.table_info(\"users\")\n"
     ]
    },
    {
     "name": "stdout",
     "output_type": "stream",
     "text": [
      "2020-07-14 15:40:23,945 INFO sqlalchemy.engine.base.Engine ()\n"
     ]
    },
    {
     "name": "stderr",
     "output_type": "stream",
     "text": [
      "INFO:sqlalchemy.engine.base.Engine:()\n"
     ]
    },
    {
     "name": "stdout",
     "output_type": "stream",
     "text": [
      "2020-07-14 15:40:23,947 INFO sqlalchemy.engine.base.Engine PRAGMA main.table_info(\"address\")\n"
     ]
    },
    {
     "name": "stderr",
     "output_type": "stream",
     "text": [
      "INFO:sqlalchemy.engine.base.Engine:PRAGMA main.table_info(\"address\")\n"
     ]
    },
    {
     "name": "stdout",
     "output_type": "stream",
     "text": [
      "2020-07-14 15:40:23,948 INFO sqlalchemy.engine.base.Engine ()\n"
     ]
    },
    {
     "name": "stderr",
     "output_type": "stream",
     "text": [
      "INFO:sqlalchemy.engine.base.Engine:()\n"
     ]
    },
    {
     "name": "stdout",
     "output_type": "stream",
     "text": [
      "2020-07-14 15:40:23,949 INFO sqlalchemy.engine.base.Engine PRAGMA temp.table_info(\"address\")\n"
     ]
    },
    {
     "name": "stderr",
     "output_type": "stream",
     "text": [
      "INFO:sqlalchemy.engine.base.Engine:PRAGMA temp.table_info(\"address\")\n"
     ]
    },
    {
     "name": "stdout",
     "output_type": "stream",
     "text": [
      "2020-07-14 15:40:23,950 INFO sqlalchemy.engine.base.Engine ()\n"
     ]
    },
    {
     "name": "stderr",
     "output_type": "stream",
     "text": [
      "INFO:sqlalchemy.engine.base.Engine:()\n"
     ]
    },
    {
     "name": "stdout",
     "output_type": "stream",
     "text": [
      "2020-07-14 15:40:23,953 INFO sqlalchemy.engine.base.Engine \n",
      "CREATE TABLE users (\n",
      "\tid INTEGER NOT NULL, \n",
      "\tname VARCHAR, \n",
      "\tfullname VARCHAR, \n",
      "\tPRIMARY KEY (id)\n",
      ")\n",
      "\n",
      "\n"
     ]
    },
    {
     "name": "stderr",
     "output_type": "stream",
     "text": [
      "INFO:sqlalchemy.engine.base.Engine:\n",
      "CREATE TABLE users (\n",
      "\tid INTEGER NOT NULL, \n",
      "\tname VARCHAR, \n",
      "\tfullname VARCHAR, \n",
      "\tPRIMARY KEY (id)\n",
      ")\n",
      "\n",
      "\n"
     ]
    },
    {
     "name": "stdout",
     "output_type": "stream",
     "text": [
      "2020-07-14 15:40:23,954 INFO sqlalchemy.engine.base.Engine ()\n"
     ]
    },
    {
     "name": "stderr",
     "output_type": "stream",
     "text": [
      "INFO:sqlalchemy.engine.base.Engine:()\n"
     ]
    },
    {
     "name": "stdout",
     "output_type": "stream",
     "text": [
      "2020-07-14 15:40:23,957 INFO sqlalchemy.engine.base.Engine COMMIT\n"
     ]
    },
    {
     "name": "stderr",
     "output_type": "stream",
     "text": [
      "INFO:sqlalchemy.engine.base.Engine:COMMIT\n"
     ]
    },
    {
     "name": "stdout",
     "output_type": "stream",
     "text": [
      "2020-07-14 15:40:23,959 INFO sqlalchemy.engine.base.Engine \n",
      "CREATE TABLE address (\n",
      "\tid INTEGER NOT NULL, \n",
      "\tuser_id INTEGER, \n",
      "\temail_address VARCHAR NOT NULL, \n",
      "\tPRIMARY KEY (id), \n",
      "\tFOREIGN KEY(user_id) REFERENCES users (id)\n",
      ")\n",
      "\n",
      "\n"
     ]
    },
    {
     "name": "stderr",
     "output_type": "stream",
     "text": [
      "INFO:sqlalchemy.engine.base.Engine:\n",
      "CREATE TABLE address (\n",
      "\tid INTEGER NOT NULL, \n",
      "\tuser_id INTEGER, \n",
      "\temail_address VARCHAR NOT NULL, \n",
      "\tPRIMARY KEY (id), \n",
      "\tFOREIGN KEY(user_id) REFERENCES users (id)\n",
      ")\n",
      "\n",
      "\n"
     ]
    },
    {
     "name": "stdout",
     "output_type": "stream",
     "text": [
      "2020-07-14 15:40:23,960 INFO sqlalchemy.engine.base.Engine ()\n"
     ]
    },
    {
     "name": "stderr",
     "output_type": "stream",
     "text": [
      "INFO:sqlalchemy.engine.base.Engine:()\n"
     ]
    },
    {
     "name": "stdout",
     "output_type": "stream",
     "text": [
      "2020-07-14 15:40:23,962 INFO sqlalchemy.engine.base.Engine COMMIT\n"
     ]
    },
    {
     "name": "stderr",
     "output_type": "stream",
     "text": [
      "INFO:sqlalchemy.engine.base.Engine:COMMIT\n"
     ]
    }
   ],
   "source": [
    "meta.create_all(engine) #엔진에 생성"
   ]
  },
  {
   "cell_type": "markdown",
   "metadata": {},
   "source": [
    "- 뭐 하는지 에코로 쭉 표현됨. 보자.\n",
    "- 친숙한 SQL문들이 나옴. 변환해주는 것. 엔진을 생성했으므로.\n",
    "- meta에 테이블 2개 만들었음."
   ]
  },
  {
   "cell_type": "code",
   "execution_count": 44,
   "metadata": {},
   "outputs": [
    {
     "data": {
      "text/plain": [
       "immutabledict({'users': Table('users', MetaData(bind=None), Column('id', Integer(), table=<users>, primary_key=True, nullable=False), Column('name', String(), table=<users>), Column('fullname', String(), table=<users>), schema=None), 'address': Table('address', MetaData(bind=None), Column('id', Integer(), table=<address>, primary_key=True, nullable=False), Column('user_id', Integer(), ForeignKey('users.id'), table=<address>), Column('email_address', String(), table=<address>, nullable=False), schema=None)})"
      ]
     },
     "execution_count": 44,
     "metadata": {},
     "output_type": "execute_result"
    }
   ],
   "source": [
    "meta.tables"
   ]
  },
  {
   "cell_type": "markdown",
   "metadata": {},
   "source": [
    "users, adress."
   ]
  },
  {
   "cell_type": "raw",
   "metadata": {},
   "source": [
    "그리고 실제 물리적 DB에 만들어졌느냐? 바인딩 정보가 없음. 아직은 변환된 상태로만 존재."
   ]
  },
  {
   "cell_type": "code",
   "execution_count": 45,
   "metadata": {},
   "outputs": [],
   "source": [
    "meta.bind"
   ]
  },
  {
   "cell_type": "markdown",
   "metadata": {},
   "source": [
    "- meta 상속받은 테이블이 줄 수 있는 것: 바인딩 정보 보기, 예제... 등을 보면 이렇게 됨."
   ]
  },
  {
   "cell_type": "code",
   "execution_count": 46,
   "metadata": {},
   "outputs": [
    {
     "data": {
      "text/plain": [
       "<sqlalchemy.sql.dml.Insert object at 0x000001CA76A9AA08>"
      ]
     },
     "execution_count": 46,
     "metadata": {},
     "output_type": "execute_result"
    }
   ],
   "source": [
    "users.insert()"
   ]
  },
  {
   "cell_type": "markdown",
   "metadata": {},
   "source": [
    "insert object. 아까 본 named style로 쿼리문이 만들어져 있음."
   ]
  },
  {
   "cell_type": "code",
   "execution_count": 47,
   "metadata": {},
   "outputs": [
    {
     "name": "stdout",
     "output_type": "stream",
     "text": [
      "INSERT INTO users (id, name, fullname) VALUES (:id, :name, :fullname)\n"
     ]
    }
   ],
   "source": [
    "print(users.insert())"
   ]
  },
  {
   "cell_type": "markdown",
   "metadata": {},
   "source": [
    "쿼리 만들 떄 value에, id, name, fullname이니까... 쿼리가 이렇게 나옴."
   ]
  },
  {
   "cell_type": "code",
   "execution_count": 56,
   "metadata": {},
   "outputs": [
    {
     "name": "stdout",
     "output_type": "stream",
     "text": [
      "INSERT INTO users (name, fullname) VALUES (:name, :fullname)\n",
      "INSERT INTO users (name, fullname) VALUES (:name, :fullname)\n",
      "{'name': 'test', 'fullname': 'testtest'}\n"
     ]
    }
   ],
   "source": [
    "insert = users.insert().values(name='test', fullname='testtest')\n",
    "print(insert)\n",
    "print(insert.compile())\n",
    "print(insert.compile().params)"
   ]
  },
  {
   "cell_type": "markdown",
   "metadata": {},
   "source": [
    "- 바인딩 안 되었기에 아직 insert 안 됨.\n",
    "- 커넥션 개체를 불러와보자. 엔진 생성 시 접근할 DB 정보를 줬으니. 커넥션이 누군가를 가리키고 있을 거고, 똑같이 execute 있을 것. 여기에 object를 넣을 것."
   ]
  },
  {
   "cell_type": "code",
   "execution_count": 51,
   "metadata": {},
   "outputs": [],
   "source": [
    "conn = engine.connect()"
   ]
  },
  {
   "cell_type": "code",
   "execution_count": 55,
   "metadata": {},
   "outputs": [
    {
     "name": "stdout",
     "output_type": "stream",
     "text": [
      "2020-07-14 15:47:02,842 INFO sqlalchemy.engine.base.Engine INSERT INTO users (name, fullname) VALUES (?, ?)\n"
     ]
    },
    {
     "name": "stderr",
     "output_type": "stream",
     "text": [
      "INFO:sqlalchemy.engine.base.Engine:INSERT INTO users (name, fullname) VALUES (?, ?)\n"
     ]
    },
    {
     "name": "stdout",
     "output_type": "stream",
     "text": [
      "2020-07-14 15:47:02,844 INFO sqlalchemy.engine.base.Engine ('test', 'testtest')\n"
     ]
    },
    {
     "name": "stderr",
     "output_type": "stream",
     "text": [
      "INFO:sqlalchemy.engine.base.Engine:('test', 'testtest')\n"
     ]
    },
    {
     "name": "stdout",
     "output_type": "stream",
     "text": [
      "2020-07-14 15:47:02,848 INFO sqlalchemy.engine.base.Engine COMMIT\n"
     ]
    },
    {
     "name": "stderr",
     "output_type": "stream",
     "text": [
      "INFO:sqlalchemy.engine.base.Engine:COMMIT\n"
     ]
    },
    {
     "data": {
      "text/plain": [
       "<sqlalchemy.engine.result.ResultProxy at 0x1ca76785948>"
      ]
     },
     "execution_count": 55,
     "metadata": {},
     "output_type": "execute_result"
    }
   ],
   "source": [
    "conn.execute(insert)"
   ]
  },
  {
   "cell_type": "markdown",
   "metadata": {},
   "source": [
    "파라미터를 투입하였기에 무언가가 쿼리로 변환되어 SQL로 들어감."
   ]
  },
  {
   "cell_type": "code",
   "execution_count": 58,
   "metadata": {},
   "outputs": [
    {
     "name": "stdout",
     "output_type": "stream",
     "text": [
      "SELECT users.id, users.name, users.fullname \n",
      "FROM users\n"
     ]
    }
   ],
   "source": [
    "print(users.select().compile()) #users의 select 형태."
   ]
  },
  {
   "cell_type": "code",
   "execution_count": 59,
   "metadata": {},
   "outputs": [
    {
     "name": "stdout",
     "output_type": "stream",
     "text": [
      "2020-07-14 15:48:40,561 INFO sqlalchemy.engine.base.Engine SELECT users.id, users.name, users.fullname \n",
      "FROM users\n"
     ]
    },
    {
     "name": "stderr",
     "output_type": "stream",
     "text": [
      "INFO:sqlalchemy.engine.base.Engine:SELECT users.id, users.name, users.fullname \n",
      "FROM users\n"
     ]
    },
    {
     "name": "stdout",
     "output_type": "stream",
     "text": [
      "2020-07-14 15:48:40,563 INFO sqlalchemy.engine.base.Engine ()\n"
     ]
    },
    {
     "name": "stderr",
     "output_type": "stream",
     "text": [
      "INFO:sqlalchemy.engine.base.Engine:()\n"
     ]
    },
    {
     "data": {
      "text/plain": [
       "<sqlalchemy.engine.result.ResultProxy at 0x1ca76b85e08>"
      ]
     },
     "execution_count": 59,
     "metadata": {},
     "output_type": "execute_result"
    }
   ],
   "source": [
    "conn.execute(users.select())"
   ]
  },
  {
   "cell_type": "markdown",
   "metadata": {},
   "source": [
    "쿼리 바뀌고, 무언가 처리됨. 객체의 함수를 통해 변환."
   ]
  },
  {
   "cell_type": "markdown",
   "metadata": {},
   "source": [
    "임시로 커서를 하나 받아서, ppt 보면 result가 있음."
   ]
  },
  {
   "cell_type": "code",
   "execution_count": 61,
   "metadata": {},
   "outputs": [
    {
     "name": "stdout",
     "output_type": "stream",
     "text": [
      "2020-07-14 15:50:02,713 INFO sqlalchemy.engine.base.Engine SELECT users.id, users.name, users.fullname \n",
      "FROM users\n"
     ]
    },
    {
     "name": "stderr",
     "output_type": "stream",
     "text": [
      "INFO:sqlalchemy.engine.base.Engine:SELECT users.id, users.name, users.fullname \n",
      "FROM users\n"
     ]
    },
    {
     "name": "stdout",
     "output_type": "stream",
     "text": [
      "2020-07-14 15:50:02,715 INFO sqlalchemy.engine.base.Engine ()\n"
     ]
    },
    {
     "name": "stderr",
     "output_type": "stream",
     "text": [
      "INFO:sqlalchemy.engine.base.Engine:()\n"
     ]
    }
   ],
   "source": [
    "cur = conn.execute(users.select())"
   ]
  },
  {
   "cell_type": "code",
   "execution_count": 62,
   "metadata": {},
   "outputs": [
    {
     "data": {
      "text/plain": [
       "[(1, 'test', 'testtest')]"
      ]
     },
     "execution_count": 62,
     "metadata": {},
     "output_type": "execute_result"
    }
   ],
   "source": [
    "list(cur)"
   ]
  },
  {
   "cell_type": "markdown",
   "metadata": {},
   "source": [
    "데이터 확인."
   ]
  },
  {
   "cell_type": "markdown",
   "metadata": {},
   "source": [
    "아까 입력 안 한 것: PK. 입력한 적 없으니 값 없어야 함. lazy connecting하며 DB에 다녀오니 id값이 생성됨."
   ]
  },
  {
   "cell_type": "code",
   "execution_count": 67,
   "metadata": {},
   "outputs": [
    {
     "name": "stdout",
     "output_type": "stream",
     "text": [
      "2020-07-14 15:53:18,453 INFO sqlalchemy.engine.base.Engine INSERT INTO users (name, fullname) VALUES (?, ?)\n"
     ]
    },
    {
     "name": "stderr",
     "output_type": "stream",
     "text": [
      "INFO:sqlalchemy.engine.base.Engine:INSERT INTO users (name, fullname) VALUES (?, ?)\n"
     ]
    },
    {
     "name": "stdout",
     "output_type": "stream",
     "text": [
      "2020-07-14 15:53:18,455 INFO sqlalchemy.engine.base.Engine ('test2', 'test2test2')\n"
     ]
    },
    {
     "name": "stderr",
     "output_type": "stream",
     "text": [
      "INFO:sqlalchemy.engine.base.Engine:('test2', 'test2test2')\n"
     ]
    },
    {
     "name": "stdout",
     "output_type": "stream",
     "text": [
      "2020-07-14 15:53:18,459 INFO sqlalchemy.engine.base.Engine COMMIT\n"
     ]
    },
    {
     "name": "stderr",
     "output_type": "stream",
     "text": [
      "INFO:sqlalchemy.engine.base.Engine:COMMIT\n"
     ]
    }
   ],
   "source": [
    "#주어진 파라미터로 insert\n",
    "cur = conn.execute(users.insert(), {'name':'test2', 'fullname':'test2test2'})"
   ]
  },
  {
   "cell_type": "code",
   "execution_count": 68,
   "metadata": {},
   "outputs": [
    {
     "data": {
      "text/plain": [
       "4"
      ]
     },
     "execution_count": 68,
     "metadata": {},
     "output_type": "execute_result"
    }
   ],
   "source": [
    "cur.lastrowid"
   ]
  },
  {
   "cell_type": "markdown",
   "metadata": {},
   "source": [
    "connection 객체를 통해 그대로 넣어줄 수 있음. dialect가 해석하고, connection pool로 커넥션한 후 DB API로 실제 DB에 내려보낸 과정."
   ]
  },
  {
   "cell_type": "code",
   "execution_count": 73,
   "metadata": {},
   "outputs": [
    {
     "name": "stdout",
     "output_type": "stream",
     "text": [
      "2020-07-14 15:55:58,622 INFO sqlalchemy.engine.base.Engine SELECT users.id, users.name, users.fullname \n",
      "FROM users\n"
     ]
    },
    {
     "name": "stderr",
     "output_type": "stream",
     "text": [
      "INFO:sqlalchemy.engine.base.Engine:SELECT users.id, users.name, users.fullname \n",
      "FROM users\n"
     ]
    },
    {
     "name": "stdout",
     "output_type": "stream",
     "text": [
      "2020-07-14 15:55:58,624 INFO sqlalchemy.engine.base.Engine ()\n"
     ]
    },
    {
     "name": "stderr",
     "output_type": "stream",
     "text": [
      "INFO:sqlalchemy.engine.base.Engine:()\n"
     ]
    },
    {
     "name": "stdout",
     "output_type": "stream",
     "text": [
      "<sqlalchemy.engine.result.ResultProxy object at 0x000001CA77613408>\n"
     ]
    }
   ],
   "source": [
    "cur = conn.execute(users.select())\n",
    "print(cur)"
   ]
  },
  {
   "cell_type": "code",
   "execution_count": 75,
   "metadata": {},
   "outputs": [
    {
     "name": "stdout",
     "output_type": "stream",
     "text": [
      "SELECT users.name, users.fullname \n",
      "FROM users\n",
      "2020-07-14 15:57:39,906 INFO sqlalchemy.engine.base.Engine SELECT users.name, users.fullname \n",
      "FROM users\n"
     ]
    },
    {
     "name": "stderr",
     "output_type": "stream",
     "text": [
      "INFO:sqlalchemy.engine.base.Engine:SELECT users.name, users.fullname \n",
      "FROM users\n"
     ]
    },
    {
     "name": "stdout",
     "output_type": "stream",
     "text": [
      "2020-07-14 15:57:39,907 INFO sqlalchemy.engine.base.Engine ()\n"
     ]
    },
    {
     "name": "stderr",
     "output_type": "stream",
     "text": [
      "INFO:sqlalchemy.engine.base.Engine:()\n"
     ]
    },
    {
     "name": "stdout",
     "output_type": "stream",
     "text": [
      "[('test', 'testtest'), ('test2', 'test2test2'), ('test2', 'test2test2'), ('test2', 'test2test2')]\n"
     ]
    }
   ],
   "source": [
    "from sqlalchemy import select\n",
    "print(select([users.c.name, users.c.fullname]))\n",
    "cur = conn.execute(select([users.c.name, users.c.fullname]))\n",
    "print(list(cur))"
   ]
  },
  {
   "cell_type": "markdown",
   "metadata": {},
   "source": [
    "- select문에 앞에서 만든 column의 name, parameter를 넣어서 실행, 결과 가져오기. 이렇게도 사용 가능.\n",
    "- ORM 단으로 올라가면 더 객체형이 됨.\n",
    "- c는 coloumn이라는 뜻.\n",
    "- binding시키면 users.column...으로 가져와야 하는데 잘 안 되어서 일단 select문으로 바로 썼음."
   ]
  },
  {
   "cell_type": "markdown",
   "metadata": {},
   "source": [
    "where절 조건."
   ]
  },
  {
   "cell_type": "code",
   "execution_count": 77,
   "metadata": {},
   "outputs": [
    {
     "name": "stdout",
     "output_type": "stream",
     "text": [
      "users.id = :id_1\n",
      "{'id_1': 1}\n"
     ]
    }
   ],
   "source": [
    "print(users.c.id == 1) #일반적 문법\n",
    "print((users.c.id == 1).compile().params)"
   ]
  },
  {
   "cell_type": "markdown",
   "metadata": {},
   "source": [
    "이 둘을 이용해서 select에 users를 넣을 것."
   ]
  },
  {
   "cell_type": "code",
   "execution_count": 78,
   "metadata": {},
   "outputs": [
    {
     "name": "stdout",
     "output_type": "stream",
     "text": [
      "2020-07-14 16:00:55,406 INFO sqlalchemy.engine.base.Engine SELECT users.id, users.name, users.fullname \n",
      "FROM users \n",
      "WHERE users.id = ?\n"
     ]
    },
    {
     "name": "stderr",
     "output_type": "stream",
     "text": [
      "INFO:sqlalchemy.engine.base.Engine:SELECT users.id, users.name, users.fullname \n",
      "FROM users \n",
      "WHERE users.id = ?\n"
     ]
    },
    {
     "name": "stdout",
     "output_type": "stream",
     "text": [
      "2020-07-14 16:00:55,408 INFO sqlalchemy.engine.base.Engine (1,)\n"
     ]
    },
    {
     "name": "stderr",
     "output_type": "stream",
     "text": [
      "INFO:sqlalchemy.engine.base.Engine:(1,)\n"
     ]
    },
    {
     "data": {
      "text/plain": [
       "[(1, 'test', 'testtest')]"
      ]
     },
     "execution_count": 78,
     "metadata": {},
     "output_type": "execute_result"
    }
   ],
   "source": [
    "cur = conn.execute(users.select().where(users.c.id == 1))\n",
    "list(cur)"
   ]
  },
  {
   "cell_type": "markdown",
   "metadata": {},
   "source": [
    "이런 식으로 SQL문을 객체 내 변수 비교처럼 사용 가능."
   ]
  },
  {
   "cell_type": "markdown",
   "metadata": {},
   "source": [
    "아무리 커넥션 정보를 줘도 안 움직임. 실제 실행할 때만 하니까 lazy connecting."
   ]
  },
  {
   "cell_type": "code",
   "execution_count": 80,
   "metadata": {},
   "outputs": [
    {
     "data": {
      "text/plain": [
       "Table('address', MetaData(bind=None), Column('id', Integer(), table=<address>, primary_key=True, nullable=False), Column('user_id', Integer(), ForeignKey('users.id'), table=<address>), Column('email_address', String(), table=<address>, nullable=False), schema=None)"
      ]
     },
     "execution_count": 80,
     "metadata": {},
     "output_type": "execute_result"
    }
   ],
   "source": [
    "addr"
   ]
  },
  {
   "cell_type": "code",
   "execution_count": 101,
   "metadata": {},
   "outputs": [
    {
     "name": "stdout",
     "output_type": "stream",
     "text": [
      "2020-07-14 16:11:10,236 INFO sqlalchemy.engine.base.Engine INSERT INTO address (user_id, email_address) VALUES (?, ?)\n"
     ]
    },
    {
     "name": "stderr",
     "output_type": "stream",
     "text": [
      "INFO:sqlalchemy.engine.base.Engine:INSERT INTO address (user_id, email_address) VALUES (?, ?)\n"
     ]
    },
    {
     "name": "stdout",
     "output_type": "stream",
     "text": [
      "2020-07-14 16:11:10,238 INFO sqlalchemy.engine.base.Engine (1, '1@1.com')\n"
     ]
    },
    {
     "name": "stderr",
     "output_type": "stream",
     "text": [
      "INFO:sqlalchemy.engine.base.Engine:(1, '1@1.com')\n"
     ]
    },
    {
     "name": "stdout",
     "output_type": "stream",
     "text": [
      "2020-07-14 16:11:10,240 INFO sqlalchemy.engine.base.Engine COMMIT\n"
     ]
    },
    {
     "name": "stderr",
     "output_type": "stream",
     "text": [
      "INFO:sqlalchemy.engine.base.Engine:COMMIT\n"
     ]
    }
   ],
   "source": [
    "#데이터가 없으니 insert하자\n",
    "cur = conn.execute(addr.insert(), {'user_id': 1, 'email_address':'1@1.com'})"
   ]
  },
  {
   "cell_type": "code",
   "execution_count": 102,
   "metadata": {},
   "outputs": [
    {
     "data": {
      "text/plain": [
       "3"
      ]
     },
     "execution_count": 102,
     "metadata": {},
     "output_type": "execute_result"
    }
   ],
   "source": [
    "cur.lastrowid #실제 DB에 다녀왔으면 1이 나와야."
   ]
  },
  {
   "cell_type": "code",
   "execution_count": 103,
   "metadata": {},
   "outputs": [],
   "source": [
    "# join 연산\n",
    "from sqlalchemy import join"
   ]
  },
  {
   "cell_type": "code",
   "execution_count": 104,
   "metadata": {},
   "outputs": [
    {
     "data": {
      "text/plain": [
       "<sqlalchemy.sql.selectable.Join at 0x1ca77451048; Join object on users(1969084432648) and address(1969084435080)>"
      ]
     },
     "execution_count": 104,
     "metadata": {},
     "output_type": "execute_result"
    }
   ],
   "source": [
    "users.join(addr)"
   ]
  },
  {
   "cell_type": "code",
   "execution_count": 105,
   "metadata": {},
   "outputs": [
    {
     "name": "stdout",
     "output_type": "stream",
     "text": [
      "users JOIN address ON users.id = address.user_id\n"
     ]
    }
   ],
   "source": [
    "print(users.join(addr))"
   ]
  },
  {
   "cell_type": "code",
   "execution_count": 106,
   "metadata": {},
   "outputs": [
    {
     "name": "stdout",
     "output_type": "stream",
     "text": [
      "SELECT  \n",
      "FROM users JOIN address ON users.id = address.user_id\n"
     ]
    }
   ],
   "source": [
    "print(select().select_from(users.join(addr)))"
   ]
  },
  {
   "cell_type": "code",
   "execution_count": 107,
   "metadata": {},
   "outputs": [
    {
     "name": "stdout",
     "output_type": "stream",
     "text": [
      "SELECT users.name, users.fullname, address.email_address \n",
      "FROM users JOIN address ON users.id = address.user_id\n"
     ]
    }
   ],
   "source": [
    "#inner join문 작성\n",
    "print(select([users.c.name, users.c.fullname, addr.c.email_address]).select_from(users.join(addr)))"
   ]
  },
  {
   "cell_type": "code",
   "execution_count": 108,
   "metadata": {},
   "outputs": [
    {
     "name": "stdout",
     "output_type": "stream",
     "text": [
      "2020-07-14 16:11:13,091 INFO sqlalchemy.engine.base.Engine SELECT users.name, users.fullname, address.email_address \n",
      "FROM users JOIN address ON users.id = address.user_id\n"
     ]
    },
    {
     "name": "stderr",
     "output_type": "stream",
     "text": [
      "INFO:sqlalchemy.engine.base.Engine:SELECT users.name, users.fullname, address.email_address \n",
      "FROM users JOIN address ON users.id = address.user_id\n"
     ]
    },
    {
     "name": "stdout",
     "output_type": "stream",
     "text": [
      "2020-07-14 16:11:13,093 INFO sqlalchemy.engine.base.Engine ()\n"
     ]
    },
    {
     "name": "stderr",
     "output_type": "stream",
     "text": [
      "INFO:sqlalchemy.engine.base.Engine:()\n"
     ]
    },
    {
     "data": {
      "text/plain": [
       "[('test', 'testtest', '1@1.com')]"
      ]
     },
     "execution_count": 108,
     "metadata": {},
     "output_type": "execute_result"
    }
   ],
   "source": [
    "cur = conn.execute(select([users.c.name, users.c.fullname, addr.c.email_address]).select_from(users.join(addr)))\n",
    "cur.fetchall()"
   ]
  },
  {
   "cell_type": "code",
   "execution_count": 4,
   "metadata": {},
   "outputs": [
    {
     "data": {
      "text/plain": [
       "Engine(sqlite:///ex3.db)"
      ]
     },
     "execution_count": 4,
     "metadata": {},
     "output_type": "execute_result"
    }
   ],
   "source": [
    "#lazy니까 아직 안 생김\n",
    "from sqlalchemy import create_engine, Table, Column, Integer, String, MetaData, ForeignKey, select, join\n",
    "engine = create_engine('sqlite:///ex3.db', echo=True) #Echo True 켜야 과정이 보임\n",
    "engine"
   ]
  },
  {
   "cell_type": "code",
   "execution_count": 5,
   "metadata": {},
   "outputs": [],
   "source": [
    "meta = MetaData()"
   ]
  },
  {
   "cell_type": "code",
   "execution_count": 6,
   "metadata": {},
   "outputs": [],
   "source": [
    "users = Table('user', meta,\n",
    "             Column('id', Integer, primary_key=True),\n",
    "             Column('name', String, nullable=False))\n",
    "addr = Table('address', meta,\n",
    "            Column('id', Integer, primary_key=True),\n",
    "            Column('user_id', Integer, ForeignKey('user.id')),\n",
    "            Column('email', String))"
   ]
  },
  {
   "cell_type": "code",
   "execution_count": 7,
   "metadata": {},
   "outputs": [
    {
     "name": "stdout",
     "output_type": "stream",
     "text": [
      "2020-07-14 16:16:33,418 INFO sqlalchemy.engine.base.Engine SELECT CAST('test plain returns' AS VARCHAR(60)) AS anon_1\n",
      "2020-07-14 16:16:33,423 INFO sqlalchemy.engine.base.Engine ()\n",
      "2020-07-14 16:16:33,425 INFO sqlalchemy.engine.base.Engine SELECT CAST('test unicode returns' AS VARCHAR(60)) AS anon_1\n",
      "2020-07-14 16:16:33,426 INFO sqlalchemy.engine.base.Engine ()\n",
      "2020-07-14 16:16:33,428 INFO sqlalchemy.engine.base.Engine PRAGMA main.table_info(\"user\")\n",
      "2020-07-14 16:16:33,428 INFO sqlalchemy.engine.base.Engine ()\n",
      "2020-07-14 16:16:33,430 INFO sqlalchemy.engine.base.Engine PRAGMA temp.table_info(\"user\")\n",
      "2020-07-14 16:16:33,431 INFO sqlalchemy.engine.base.Engine ()\n",
      "2020-07-14 16:16:33,431 INFO sqlalchemy.engine.base.Engine PRAGMA main.table_info(\"address\")\n",
      "2020-07-14 16:16:33,432 INFO sqlalchemy.engine.base.Engine ()\n",
      "2020-07-14 16:16:33,433 INFO sqlalchemy.engine.base.Engine PRAGMA temp.table_info(\"address\")\n",
      "2020-07-14 16:16:33,434 INFO sqlalchemy.engine.base.Engine ()\n",
      "2020-07-14 16:16:33,435 INFO sqlalchemy.engine.base.Engine \n",
      "CREATE TABLE user (\n",
      "\tid INTEGER NOT NULL, \n",
      "\tname VARCHAR NOT NULL, \n",
      "\tPRIMARY KEY (id)\n",
      ")\n",
      "\n",
      "\n",
      "2020-07-14 16:16:33,436 INFO sqlalchemy.engine.base.Engine ()\n",
      "2020-07-14 16:16:33,441 INFO sqlalchemy.engine.base.Engine COMMIT\n",
      "2020-07-14 16:16:33,442 INFO sqlalchemy.engine.base.Engine \n",
      "CREATE TABLE address (\n",
      "\tid INTEGER NOT NULL, \n",
      "\tuser_id INTEGER, \n",
      "\temail VARCHAR, \n",
      "\tPRIMARY KEY (id), \n",
      "\tFOREIGN KEY(user_id) REFERENCES user (id)\n",
      ")\n",
      "\n",
      "\n",
      "2020-07-14 16:16:33,443 INFO sqlalchemy.engine.base.Engine ()\n",
      "2020-07-14 16:16:33,449 INFO sqlalchemy.engine.base.Engine COMMIT\n"
     ]
    }
   ],
   "source": [
    "meta.create_all(engine)"
   ]
  },
  {
   "cell_type": "markdown",
   "metadata": {},
   "source": [
    "- 실제 DB 생성 타임 확인용."
   ]
  },
  {
   "cell_type": "code",
   "execution_count": 8,
   "metadata": {},
   "outputs": [
    {
     "name": "stdout",
     "output_type": "stream",
     "text": [
      "2020-07-14 16:18:00,610 INFO sqlalchemy.engine.base.Engine INSERT INTO user (name) VALUES (?)\n",
      "2020-07-14 16:18:00,611 INFO sqlalchemy.engine.base.Engine ((1,), (2,))\n",
      "2020-07-14 16:18:00,615 INFO sqlalchemy.engine.base.Engine COMMIT\n"
     ]
    },
    {
     "data": {
      "text/plain": [
       "<sqlalchemy.engine.result.ResultProxy at 0x1b1a6a1cb48>"
      ]
     },
     "execution_count": 8,
     "metadata": {},
     "output_type": "execute_result"
    }
   ],
   "source": [
    "#엔진을 이용, 데이터를 생성해보자.\n",
    "engine.execute(users.insert(), [{'name':1}, {'name':2}])"
   ]
  },
  {
   "attachments": {
    "image.png": {
     "image/png": "[encoded data removed]"
    }
   },
   "cell_type": "markdown",
   "metadata": {},
   "source": [
    "commit이 있음 -> 반영되었을까? yes  \n",
    "![image.png](attachment:image.png)"
   ]
  },
  {
   "cell_type": "code",
   "execution_count": 9,
   "metadata": {},
   "outputs": [
    {
     "name": "stdout",
     "output_type": "stream",
     "text": [
      "2020-07-14 16:19:16,480 INFO sqlalchemy.engine.base.Engine INSERT INTO address (user_id, email) VALUES (?, ?)\n",
      "2020-07-14 16:19:16,482 INFO sqlalchemy.engine.base.Engine ((1, '1@1.com'), (2, '2'))\n",
      "2020-07-14 16:19:16,489 INFO sqlalchemy.engine.base.Engine COMMIT\n"
     ]
    },
    {
     "data": {
      "text/plain": [
       "<sqlalchemy.engine.result.ResultProxy at 0x1b1a51b42c8>"
      ]
     },
     "execution_count": 9,
     "metadata": {},
     "output_type": "execute_result"
    }
   ],
   "source": [
    "engine.execute(addr.insert(), [{'user_id':1, 'email': '1@1.com'}, {'user_id':2, 'email': '2'}])"
   ]
  },
  {
   "attachments": {
    "image.png": {
     "image/png": "[encoded data removed]"
    }
   },
   "cell_type": "markdown",
   "metadata": {},
   "source": [
    "![image.png](attachment:image.png)"
   ]
  },
  {
   "cell_type": "code",
   "execution_count": 11,
   "metadata": {},
   "outputs": [
    {
     "name": "stdout",
     "output_type": "stream",
     "text": [
      "2020-07-14 16:20:16,625 INFO sqlalchemy.engine.base.Engine SELECT user.name, address.email \n",
      "FROM user JOIN address ON user.id = address.user_id\n",
      "2020-07-14 16:20:16,627 INFO sqlalchemy.engine.base.Engine ()\n"
     ]
    },
    {
     "data": {
      "text/plain": [
       "[('1', '1@1.com'), ('2', '2')]"
      ]
     },
     "execution_count": 11,
     "metadata": {},
     "output_type": "execute_result"
    }
   ],
   "source": [
    "cur = engine.execute(select([users.c.name, addr.c.email]).select_from(users.join(addr)))\n",
    "cur.fetchall()"
   ]
  },
  {
   "cell_type": "markdown",
   "metadata": {},
   "source": [
    "cur 생성은 cur를 받아서 할 거냐 connection에서 임시 커서 쓸 거냐의 차이. 사용 차이는 없음. 객체를 받아 쓸 지 임시로 받은 걸 쓰고 말 건지 그 차이."
   ]
  },
  {
   "cell_type": "markdown",
   "metadata": {},
   "source": [
    "- 여기까지 했으면 아까 쿼리 입력했던 걸 이 걸로 바꿀 수 있음. 테이블만 몇 개 생성, FK만 지정해주면.\n",
    "- 물론 select로 id값 가져오려면 좀 바꿔야 할 것. 쉽게 하려면 1234 static으로 받아넣으면 됨. 순서 아니까. 일단 박아놓고, 앨범명이 아니라 앨범 id로 바뀔 것. 그러면 insert문으로 그대로 입력 가능.\n",
    "- 그러면 만들어지는 것: 위에 SQL문에서 실컷 만든 DB.\n",
    "- 사용법 다름. 객체 이용이므로. 비슷해보일 수 있으나 다름.\n",
    "- 거기까지 해오세요. cuz 동일 예제. 밑에 코드 다 있음. 한 번씩 돌려보고 오기. 그러면 내일 150p 진행.\n",
    "- 지금 한 건 core단. 151p까지 돌려보고 오기. 꼭. 그래야 ORM 진행 가능.\n",
    "    - 그대로 따라해도 되고, 코드 바꿔도 됨.\n",
    "- ORM은 진짜 객체로 진행. 지저분한 과정 없음.\n",
    "- 잘 안 되었던 사람들은 질문하고, 다 된 경우 조별모임."
   ]
  }
 ],
 "metadata": {
  "kernelspec": {
   "display_name": "Python 3",
   "language": "python",
   "name": "python3"
  },
  "language_info": {
   "codemirror_mode": {
    "name": "ipython",
    "version": 3
   },
   "file_extension": ".py",
   "mimetype": "text/x-python",
   "name": "python",
   "nbconvert_exporter": "python",
   "pygments_lexer": "ipython3",
   "version": "3.7.6"
  }
 },
 "nbformat": 4,
 "nbformat_minor": 4
}
