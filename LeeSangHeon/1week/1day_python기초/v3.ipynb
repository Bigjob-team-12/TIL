{
 "cells": [
  {
   "cell_type": "markdown",
   "metadata": {},
   "source": [
    "# Dict"
   ]
  },
  {
   "cell_type": "code",
   "execution_count": 1,
   "metadata": {},
   "outputs": [],
   "source": [
    "a = {\"a\": 1 , \"b\": 2}"
   ]
  },
  {
   "cell_type": "code",
   "execution_count": 2,
   "metadata": {},
   "outputs": [
    {
     "data": {
      "text/plain": [
       "{'a': 1, 'b': 2}"
      ]
     },
     "execution_count": 2,
     "metadata": {},
     "output_type": "execute_result"
    }
   ],
   "source": [
    "a"
   ]
  },
  {
   "cell_type": "code",
   "execution_count": 3,
   "metadata": {},
   "outputs": [],
   "source": [
    "a = {\"a\": 1 , \"b\": 2, \"a\":3}"
   ]
  },
  {
   "cell_type": "code",
   "execution_count": 4,
   "metadata": {},
   "outputs": [
    {
     "data": {
      "text/plain": [
       "{'a': 3, 'b': 2}"
      ]
     },
     "execution_count": 4,
     "metadata": {},
     "output_type": "execute_result"
    }
   ],
   "source": [
    "a"
   ]
  },
  {
   "cell_type": "code",
   "execution_count": 8,
   "metadata": {},
   "outputs": [],
   "source": [
    "#  key는 하나만 있어야함, 유일해야함\n",
    "# key는 mutable type이 오면 안됨\n",
    "# key는 set 자료구조에 기반함 "
   ]
  },
  {
   "cell_type": "code",
   "execution_count": 9,
   "metadata": {},
   "outputs": [],
   "source": [
    "a = {1: 1 , \"b\": 2, \"a\":3}"
   ]
  },
  {
   "cell_type": "code",
   "execution_count": 10,
   "metadata": {},
   "outputs": [
    {
     "data": {
      "text/plain": [
       "{1: 1, 'a': 3, 'b': 2}"
      ]
     },
     "execution_count": 10,
     "metadata": {},
     "output_type": "execute_result"
    }
   ],
   "source": [
    "a\n",
    "#숫자는 key 값으로 가능"
   ]
  },
  {
   "cell_type": "code",
   "execution_count": 11,
   "metadata": {},
   "outputs": [],
   "source": [
    "a = {(1,2,3): 1 , \"b\": 2, \"a\":3}"
   ]
  },
  {
   "cell_type": "code",
   "execution_count": 13,
   "metadata": {},
   "outputs": [
    {
     "data": {
      "text/plain": [
       "{(1, 2, 3): 1, 'a': 3, 'b': 2}"
      ]
     },
     "execution_count": 13,
     "metadata": {},
     "output_type": "execute_result"
    }
   ],
   "source": [
    "a\n",
    "# tuple도 key 값으로 가능"
   ]
  },
  {
   "cell_type": "code",
   "execution_count": 15,
   "metadata": {},
   "outputs": [
    {
     "ename": "TypeError",
     "evalue": "unhashable type: 'list'",
     "output_type": "error",
     "traceback": [
      "\u001b[1;31m---------------------------------------------------------------------------\u001b[0m",
      "\u001b[1;31mTypeError\u001b[0m                                 Traceback (most recent call last)",
      "\u001b[1;32m<ipython-input-15-274653db912d>\u001b[0m in \u001b[0;36m<module>\u001b[1;34m\u001b[0m\n\u001b[1;32m----> 1\u001b[1;33m \u001b[0ma\u001b[0m \u001b[1;33m=\u001b[0m \u001b[1;33m{\u001b[0m\u001b[1;33m(\u001b[0m\u001b[1;36m1\u001b[0m\u001b[1;33m,\u001b[0m\u001b[1;33m[\u001b[0m\u001b[1;36m1\u001b[0m\u001b[1;33m,\u001b[0m\u001b[1;36m2\u001b[0m\u001b[1;33m,\u001b[0m\u001b[1;36m3\u001b[0m\u001b[1;33m]\u001b[0m\u001b[1;33m,\u001b[0m\u001b[1;36m3\u001b[0m\u001b[1;33m)\u001b[0m\u001b[1;33m:\u001b[0m \u001b[1;36m1\u001b[0m \u001b[1;33m,\u001b[0m \u001b[1;34m\"b\"\u001b[0m\u001b[1;33m:\u001b[0m \u001b[1;36m2\u001b[0m\u001b[1;33m,\u001b[0m \u001b[1;34m\"a\"\u001b[0m\u001b[1;33m:\u001b[0m\u001b[1;36m3\u001b[0m\u001b[1;33m}\u001b[0m\u001b[1;33m\u001b[0m\u001b[0m\n\u001b[0m\u001b[0;32m      2\u001b[0m \u001b[1;31m# 오류발생\u001b[0m\u001b[1;33m\u001b[0m\u001b[1;33m\u001b[0m\u001b[0m\n",
      "\u001b[1;31mTypeError\u001b[0m: unhashable type: 'list'"
     ]
    }
   ],
   "source": [
    "a = {(1,[1,2,3],3): 1 , \"b\": 2, \"a\":3}\n",
    "# 오류발생"
   ]
  },
  {
   "cell_type": "code",
   "execution_count": 16,
   "metadata": {},
   "outputs": [],
   "source": [
    "a = {(1,2,3): 1 , \"b\": 2, \"a\":3}"
   ]
  },
  {
   "cell_type": "code",
   "execution_count": 17,
   "metadata": {},
   "outputs": [
    {
     "data": {
      "text/plain": [
       "3"
      ]
     },
     "execution_count": 17,
     "metadata": {},
     "output_type": "execute_result"
    }
   ],
   "source": [
    "len(a)\n",
    "# ket의 개수 반환"
   ]
  },
  {
   "cell_type": "code",
   "execution_count": 18,
   "metadata": {},
   "outputs": [],
   "source": [
    "a = {1,2,3}"
   ]
  },
  {
   "cell_type": "code",
   "execution_count": 19,
   "metadata": {},
   "outputs": [
    {
     "data": {
      "text/plain": [
       "['__and__',\n",
       " '__class__',\n",
       " '__contains__',\n",
       " '__delattr__',\n",
       " '__dir__',\n",
       " '__doc__',\n",
       " '__eq__',\n",
       " '__format__',\n",
       " '__ge__',\n",
       " '__getattribute__',\n",
       " '__gt__',\n",
       " '__hash__',\n",
       " '__iand__',\n",
       " '__init__',\n",
       " '__ior__',\n",
       " '__isub__',\n",
       " '__iter__',\n",
       " '__ixor__',\n",
       " '__le__',\n",
       " '__len__',\n",
       " '__lt__',\n",
       " '__ne__',\n",
       " '__new__',\n",
       " '__or__',\n",
       " '__rand__',\n",
       " '__reduce__',\n",
       " '__reduce_ex__',\n",
       " '__repr__',\n",
       " '__ror__',\n",
       " '__rsub__',\n",
       " '__rxor__',\n",
       " '__setattr__',\n",
       " '__sizeof__',\n",
       " '__str__',\n",
       " '__sub__',\n",
       " '__subclasshook__',\n",
       " '__xor__',\n",
       " 'add',\n",
       " 'clear',\n",
       " 'copy',\n",
       " 'difference',\n",
       " 'difference_update',\n",
       " 'discard',\n",
       " 'intersection',\n",
       " 'intersection_update',\n",
       " 'isdisjoint',\n",
       " 'issubset',\n",
       " 'issuperset',\n",
       " 'pop',\n",
       " 'remove',\n",
       " 'symmetric_difference',\n",
       " 'symmetric_difference_update',\n",
       " 'union',\n",
       " 'update']"
      ]
     },
     "execution_count": 19,
     "metadata": {},
     "output_type": "execute_result"
    }
   ],
   "source": [
    "dir(a)"
   ]
  },
  {
   "cell_type": "code",
   "execution_count": null,
   "metadata": {},
   "outputs": [],
   "source": []
  },
  {
   "cell_type": "markdown",
   "metadata": {},
   "source": [
    "# set"
   ]
  },
  {
   "cell_type": "code",
   "execution_count": 28,
   "metadata": {},
   "outputs": [],
   "source": [
    "x = frozenset() "
   ]
  },
  {
   "cell_type": "code",
   "execution_count": 23,
   "metadata": {},
   "outputs": [],
   "source": [
    "a = {1,2}\n",
    "b = {2,3}"
   ]
  },
  {
   "cell_type": "code",
   "execution_count": 29,
   "metadata": {},
   "outputs": [
    {
     "data": {
      "text/plain": [
       "{2}"
      ]
     },
     "execution_count": 29,
     "metadata": {},
     "output_type": "execute_result"
    }
   ],
   "source": [
    "a & b\n",
    "# 집합의 연산자"
   ]
  },
  {
   "cell_type": "code",
   "execution_count": 30,
   "metadata": {},
   "outputs": [
    {
     "data": {
      "text/plain": [
       "{1, 2, 3}"
      ]
     },
     "execution_count": 30,
     "metadata": {},
     "output_type": "execute_result"
    }
   ],
   "source": [
    "a | b"
   ]
  },
  {
   "cell_type": "code",
   "execution_count": 31,
   "metadata": {},
   "outputs": [
    {
     "data": {
      "text/plain": [
       "{1}"
      ]
     },
     "execution_count": 31,
     "metadata": {},
     "output_type": "execute_result"
    }
   ],
   "source": [
    "a - b"
   ]
  },
  {
   "cell_type": "code",
   "execution_count": 32,
   "metadata": {},
   "outputs": [
    {
     "data": {
      "text/plain": [
       "{1, 3}"
      ]
     },
     "execution_count": 32,
     "metadata": {},
     "output_type": "execute_result"
    }
   ],
   "source": [
    "a ^ b"
   ]
  },
  {
   "cell_type": "code",
   "execution_count": 34,
   "metadata": {},
   "outputs": [],
   "source": [
    "x = [1]\n",
    "y = (1,)"
   ]
  },
  {
   "cell_type": "code",
   "execution_count": 35,
   "metadata": {},
   "outputs": [
    {
     "data": {
      "text/plain": [
       "{'__delitem__',\n",
       " '__iadd__',\n",
       " '__imul__',\n",
       " '__reversed__',\n",
       " '__setitem__',\n",
       " 'append',\n",
       " 'clear',\n",
       " 'copy',\n",
       " 'extend',\n",
       " 'insert',\n",
       " 'pop',\n",
       " 'remove',\n",
       " 'reverse',\n",
       " 'sort'}"
      ]
     },
     "execution_count": 35,
     "metadata": {},
     "output_type": "execute_result"
    }
   ],
   "source": [
    "set(dir(x)) - set(dir(y))\n",
    "# mutable 특징"
   ]
  },
  {
   "cell_type": "code",
   "execution_count": 37,
   "metadata": {},
   "outputs": [],
   "source": [
    "# 나만의 데이터 만들기\n",
    "from collections.abc import Sequence"
   ]
  },
  {
   "cell_type": "code",
   "execution_count": null,
   "metadata": {},
   "outputs": [],
   "source": [
    "# dictionary view \n",
    "# ex) dict.keys() 등등 원하는 값만 뽑아볼 수 있음"
   ]
  },
  {
   "cell_type": "code",
   "execution_count": 38,
   "metadata": {},
   "outputs": [],
   "source": [
    "a = {\"a\": 1 , \"b\": 2}"
   ]
  },
  {
   "cell_type": "code",
   "execution_count": 39,
   "metadata": {},
   "outputs": [
    {
     "data": {
      "text/plain": [
       "dict_values([1, 2])"
      ]
     },
     "execution_count": 39,
     "metadata": {},
     "output_type": "execute_result"
    }
   ],
   "source": [
    "a.values()"
   ]
  },
  {
   "cell_type": "code",
   "execution_count": 40,
   "metadata": {},
   "outputs": [
    {
     "data": {
      "text/plain": [
       "dict_keys(['a', 'b'])"
      ]
     },
     "execution_count": 40,
     "metadata": {},
     "output_type": "execute_result"
    }
   ],
   "source": [
    "a.keys()"
   ]
  },
  {
   "cell_type": "code",
   "execution_count": 41,
   "metadata": {},
   "outputs": [
    {
     "data": {
      "text/plain": [
       "dict_items([('a', 1), ('b', 2)])"
      ]
     },
     "execution_count": 41,
     "metadata": {},
     "output_type": "execute_result"
    }
   ],
   "source": [
    "a.items()"
   ]
  },
  {
   "cell_type": "code",
   "execution_count": 42,
   "metadata": {},
   "outputs": [
    {
     "name": "stdout",
     "output_type": "stream",
     "text": [
      "Membership test operations\n",
      "**************************\n",
      "\n",
      "The operators \"in\" and \"not in\" test for membership.  \"x in s\"\n",
      "evaluates to \"True\" if *x* is a member of *s*, and \"False\" otherwise.\n",
      "\"x not in s\" returns the negation of \"x in s\".  All built-in sequences\n",
      "and set types support this as well as dictionary, for which \"in\" tests\n",
      "whether the dictionary has a given key. For container types such as\n",
      "list, tuple, set, frozenset, dict, or collections.deque, the\n",
      "expression \"x in y\" is equivalent to \"any(x is e or x == e for e in\n",
      "y)\".\n",
      "\n",
      "For the string and bytes types, \"x in y\" is \"True\" if and only if *x*\n",
      "is a substring of *y*.  An equivalent test is \"y.find(x) != -1\".\n",
      "Empty strings are always considered to be a substring of any other\n",
      "string, so \"\"\" in \"abc\"\" will return \"True\".\n",
      "\n",
      "For user-defined classes which define the \"__contains__()\" method, \"x\n",
      "in y\" returns \"True\" if \"y.__contains__(x)\" returns a true value, and\n",
      "\"False\" otherwise.\n",
      "\n",
      "For user-defined classes which do not define \"__contains__()\" but do\n",
      "define \"__iter__()\", \"x in y\" is \"True\" if some value \"z\" with \"x ==\n",
      "z\" is produced while iterating over \"y\".  If an exception is raised\n",
      "during the iteration, it is as if \"in\" raised that exception.\n",
      "\n",
      "Lastly, the old-style iteration protocol is tried: if a class defines\n",
      "\"__getitem__()\", \"x in y\" is \"True\" if and only if there is a non-\n",
      "negative integer index *i* such that \"x == y[i]\", and all lower\n",
      "integer indices do not raise \"IndexError\" exception.  (If any other\n",
      "exception is raised, it is as if \"in\" raised that exception).\n",
      "\n",
      "The operator \"not in\" is defined to have the inverse true value of\n",
      "\"in\".\n",
      "\n",
      "Related help topics: SEQUENCEMETHODS\n",
      "\n"
     ]
    }
   ],
   "source": [
    "help('in')"
   ]
  },
  {
   "cell_type": "code",
   "execution_count": 43,
   "metadata": {},
   "outputs": [
    {
     "data": {
      "text/plain": [
       "True"
      ]
     },
     "execution_count": 43,
     "metadata": {},
     "output_type": "execute_result"
    }
   ],
   "source": [
    "3 in [1,2,3]"
   ]
  },
  {
   "cell_type": "code",
   "execution_count": 44,
   "metadata": {},
   "outputs": [
    {
     "ename": "TypeError",
     "evalue": "'in <string>' requires string as left operand, not int",
     "output_type": "error",
     "traceback": [
      "\u001b[1;31m---------------------------------------------------------------------------\u001b[0m",
      "\u001b[1;31mTypeError\u001b[0m                                 Traceback (most recent call last)",
      "\u001b[1;32m<ipython-input-44-019785102355>\u001b[0m in \u001b[0;36m<module>\u001b[1;34m\u001b[0m\n\u001b[1;32m----> 1\u001b[1;33m \u001b[1;36m3\u001b[0m \u001b[1;32min\u001b[0m \u001b[1;34m'123'\u001b[0m\u001b[1;33m\u001b[0m\u001b[0m\n\u001b[0m",
      "\u001b[1;31mTypeError\u001b[0m: 'in <string>' requires string as left operand, not int"
     ]
    }
   ],
   "source": [
    "3 in '123'"
   ]
  },
  {
   "cell_type": "code",
   "execution_count": 45,
   "metadata": {},
   "outputs": [
    {
     "data": {
      "text/plain": [
       "True"
      ]
     },
     "execution_count": 45,
     "metadata": {},
     "output_type": "execute_result"
    }
   ],
   "source": [
    "'3' in '123'"
   ]
  },
  {
   "cell_type": "code",
   "execution_count": 46,
   "metadata": {},
   "outputs": [
    {
     "data": {
      "text/plain": [
       "{'a': 1, 'b': 2}"
      ]
     },
     "execution_count": 46,
     "metadata": {},
     "output_type": "execute_result"
    }
   ],
   "source": [
    "a"
   ]
  },
  {
   "cell_type": "code",
   "execution_count": 47,
   "metadata": {},
   "outputs": [
    {
     "data": {
      "text/plain": [
       "False"
      ]
     },
     "execution_count": 47,
     "metadata": {},
     "output_type": "execute_result"
    }
   ],
   "source": [
    "1 in a"
   ]
  },
  {
   "cell_type": "code",
   "execution_count": 49,
   "metadata": {},
   "outputs": [
    {
     "data": {
      "text/plain": [
       "True"
      ]
     },
     "execution_count": 49,
     "metadata": {},
     "output_type": "execute_result"
    }
   ],
   "source": [
    "'a' in a"
   ]
  },
  {
   "cell_type": "code",
   "execution_count": 51,
   "metadata": {},
   "outputs": [
    {
     "name": "stdout",
     "output_type": "stream",
     "text": [
      "a\n",
      "b\n"
     ]
    }
   ],
   "source": [
    "for i in a:\n",
    "    print(i)\n",
    "# key 만 찍힘"
   ]
  },
  {
   "cell_type": "code",
   "execution_count": 52,
   "metadata": {},
   "outputs": [
    {
     "name": "stdout",
     "output_type": "stream",
     "text": [
      "1\n",
      "2\n"
     ]
    }
   ],
   "source": [
    "for i in a.values():\n",
    "    print(i)"
   ]
  },
  {
   "cell_type": "code",
   "execution_count": 54,
   "metadata": {},
   "outputs": [
    {
     "name": "stdout",
     "output_type": "stream",
     "text": [
      "a 1\n",
      "b 2\n"
     ]
    }
   ],
   "source": [
    "for i,j in a.items():\n",
    "    print(i,j)"
   ]
  },
  {
   "cell_type": "code",
   "execution_count": 55,
   "metadata": {},
   "outputs": [],
   "source": [
    "# 순서가 없으면 이름으로 지정해야한다. \n",
    "# "
   ]
  },
  {
   "cell_type": "code",
   "execution_count": 56,
   "metadata": {},
   "outputs": [],
   "source": [
    "a['c']=3\n",
    "# key 값 추가 "
   ]
  },
  {
   "cell_type": "code",
   "execution_count": 57,
   "metadata": {},
   "outputs": [
    {
     "data": {
      "text/plain": [
       "{'a': 1, 'b': 2, 'c': 3}"
      ]
     },
     "execution_count": 57,
     "metadata": {},
     "output_type": "execute_result"
    }
   ],
   "source": [
    "a"
   ]
  },
  {
   "cell_type": "code",
   "execution_count": 61,
   "metadata": {},
   "outputs": [
    {
     "ename": "KeyError",
     "evalue": "'d'",
     "output_type": "error",
     "traceback": [
      "\u001b[1;31m---------------------------------------------------------------------------\u001b[0m",
      "\u001b[1;31mKeyError\u001b[0m                                  Traceback (most recent call last)",
      "\u001b[1;32m<ipython-input-61-5c1796b25a03>\u001b[0m in \u001b[0;36m<module>\u001b[1;34m\u001b[0m\n\u001b[1;32m----> 1\u001b[1;33m \u001b[0ma\u001b[0m\u001b[1;33m[\u001b[0m\u001b[1;34m'd'\u001b[0m\u001b[1;33m]\u001b[0m\u001b[1;33m\u001b[0m\u001b[0m\n\u001b[0m",
      "\u001b[1;31mKeyError\u001b[0m: 'd'"
     ]
    }
   ],
   "source": [
    "a['d']\n",
    "# key error 발생 => 위처럼 추가해서 오류 해결"
   ]
  },
  {
   "cell_type": "code",
   "execution_count": 58,
   "metadata": {},
   "outputs": [],
   "source": [
    "b = [1,2,3]"
   ]
  },
  {
   "cell_type": "code",
   "execution_count": 59,
   "metadata": {},
   "outputs": [
    {
     "ename": "IndexError",
     "evalue": "list index out of range",
     "output_type": "error",
     "traceback": [
      "\u001b[1;31m---------------------------------------------------------------------------\u001b[0m",
      "\u001b[1;31mIndexError\u001b[0m                                Traceback (most recent call last)",
      "\u001b[1;32m<ipython-input-59-f1ec67acb3ef>\u001b[0m in \u001b[0;36m<module>\u001b[1;34m\u001b[0m\n\u001b[1;32m----> 1\u001b[1;33m \u001b[0mb\u001b[0m\u001b[1;33m[\u001b[0m\u001b[1;36m3\u001b[0m\u001b[1;33m]\u001b[0m\u001b[1;33m\u001b[0m\u001b[0m\n\u001b[0m",
      "\u001b[1;31mIndexError\u001b[0m: list index out of range"
     ]
    }
   ],
   "source": [
    "b[3]"
   ]
  },
  {
   "cell_type": "code",
   "execution_count": 60,
   "metadata": {},
   "outputs": [
    {
     "ename": "IndexError",
     "evalue": "list assignment index out of range",
     "output_type": "error",
     "traceback": [
      "\u001b[1;31m---------------------------------------------------------------------------\u001b[0m",
      "\u001b[1;31mIndexError\u001b[0m                                Traceback (most recent call last)",
      "\u001b[1;32m<ipython-input-60-84f0bba3dce6>\u001b[0m in \u001b[0;36m<module>\u001b[1;34m\u001b[0m\n\u001b[1;32m----> 1\u001b[1;33m \u001b[0mb\u001b[0m\u001b[1;33m[\u001b[0m\u001b[1;36m3\u001b[0m\u001b[1;33m]\u001b[0m \u001b[1;33m=\u001b[0m\u001b[1;36m4\u001b[0m\u001b[1;33m\u001b[0m\u001b[0m\n\u001b[0m",
      "\u001b[1;31mIndexError\u001b[0m: list assignment index out of range"
     ]
    }
   ],
   "source": [
    "b[3] =4 \n",
    "# index error는 해결하기 힘듬"
   ]
  },
  {
   "cell_type": "code",
   "execution_count": 62,
   "metadata": {},
   "outputs": [],
   "source": [
    "xxxxx =3 "
   ]
  },
  {
   "cell_type": "code",
   "execution_count": 65,
   "metadata": {},
   "outputs": [
    {
     "data": {
      "text/plain": [
       "{'In': ['',\n",
       "  'a = {\"a\": 1 , \"b\": 2}',\n",
       "  'a',\n",
       "  'a = {\"a\": 1 , \"b\": 2, \"a\":3}',\n",
       "  'a',\n",
       "  '#  key는 하나만 있어야함 ',\n",
       "  '#  key는 하나만 있어야함, 유일해야함',\n",
       "  '#  key는 하나만 있어야함, 유일해야함\\n# key는 mutable type이 오면 안됨',\n",
       "  '#  key는 하나만 있어야함, 유일해야함\\n# key는 mutable type이 오면 안됨\\n# key는 set 자료구조에 기반함 ',\n",
       "  'a = {1: 1 , \"b\": 2, \"a\":3}',\n",
       "  'a',\n",
       "  'a = {(1,2,3): 1 , \"b\": 2, \"a\":3}',\n",
       "  'a',\n",
       "  'a\\n# tuple도 key 값으로 가능',\n",
       "  'a = {(1,[1,2,3],3): 1 , \"b\": 2, \"a\":3}',\n",
       "  'a = {(1,[1,2,3],3): 1 , \"b\": 2, \"a\":3}\\n# 오류발생',\n",
       "  'a = {(1,2,3): 1 , \"b\": 2, \"a\":3}',\n",
       "  'len(a)',\n",
       "  'a = {1,2,3}',\n",
       "  'dir(a)',\n",
       "  'x = frozensetzenset() ',\n",
       "  'x = frozenset() ',\n",
       "  'a = {1,2}',\n",
       "  'a = {1,2}\\nb = {2,3}',\n",
       "  'a & b',\n",
       "  'a | b',\n",
       "  'a - b',\n",
       "  'a ^ b',\n",
       "  'x = frozenset() \\n# 집합의 연산자',\n",
       "  'a & b\\n# 집합의 연산자',\n",
       "  'a | b',\n",
       "  'a - b',\n",
       "  'a ^ b',\n",
       "  'x = [1]',\n",
       "  'x = [1]\\ny = (1,)',\n",
       "  'set(dir(x)) - set(dir(y))',\n",
       "  'from collections.abc import Sequence',\n",
       "  '# 나만의 데이터 만들기\\nfrom collections.abc import Sequence',\n",
       "  'a = {\"a\": 1 , \"b\": 2}',\n",
       "  'a.values()',\n",
       "  'a.keys()',\n",
       "  'a.items()',\n",
       "  \"help('in')\",\n",
       "  '3 in [1,2,3]',\n",
       "  \"3 in '123'\",\n",
       "  \"'3' in '123'\",\n",
       "  'a',\n",
       "  '1 in a',\n",
       "  'a in a',\n",
       "  \"'a' in a\",\n",
       "  'for i in a:\\n    print(1)',\n",
       "  'for i in a:\\n    print(i)',\n",
       "  'for i in a.values():\\n    print(i)',\n",
       "  'for i,j in a,items():\\n    print(i,j)',\n",
       "  'for i,j in a.items():\\n    print(i,j)',\n",
       "  '# 순서가 없으면 이름으로 지정해야한다. \\n# ',\n",
       "  \"a['c']=3\",\n",
       "  'a',\n",
       "  'b = [1,2,3]',\n",
       "  'b[3]',\n",
       "  'b[3] =4 ',\n",
       "  \"a['d']\",\n",
       "  'xxxxx =3 ',\n",
       "  'globlas',\n",
       "  'globals',\n",
       "  'globals()'],\n",
       " 'Out': {2: {'a': 1, 'b': 2},\n",
       "  4: {'a': 3, 'b': 2},\n",
       "  10: {1: 1, 'a': 3, 'b': 2},\n",
       "  12: {(1, 2, 3): 1, 'a': 3, 'b': 2},\n",
       "  13: {(1, 2, 3): 1, 'a': 3, 'b': 2},\n",
       "  17: 3,\n",
       "  19: ['__and__',\n",
       "   '__class__',\n",
       "   '__contains__',\n",
       "   '__delattr__',\n",
       "   '__dir__',\n",
       "   '__doc__',\n",
       "   '__eq__',\n",
       "   '__format__',\n",
       "   '__ge__',\n",
       "   '__getattribute__',\n",
       "   '__gt__',\n",
       "   '__hash__',\n",
       "   '__iand__',\n",
       "   '__init__',\n",
       "   '__ior__',\n",
       "   '__isub__',\n",
       "   '__iter__',\n",
       "   '__ixor__',\n",
       "   '__le__',\n",
       "   '__len__',\n",
       "   '__lt__',\n",
       "   '__ne__',\n",
       "   '__new__',\n",
       "   '__or__',\n",
       "   '__rand__',\n",
       "   '__reduce__',\n",
       "   '__reduce_ex__',\n",
       "   '__repr__',\n",
       "   '__ror__',\n",
       "   '__rsub__',\n",
       "   '__rxor__',\n",
       "   '__setattr__',\n",
       "   '__sizeof__',\n",
       "   '__str__',\n",
       "   '__sub__',\n",
       "   '__subclasshook__',\n",
       "   '__xor__',\n",
       "   'add',\n",
       "   'clear',\n",
       "   'copy',\n",
       "   'difference',\n",
       "   'difference_update',\n",
       "   'discard',\n",
       "   'intersection',\n",
       "   'intersection_update',\n",
       "   'isdisjoint',\n",
       "   'issubset',\n",
       "   'issuperset',\n",
       "   'pop',\n",
       "   'remove',\n",
       "   'symmetric_difference',\n",
       "   'symmetric_difference_update',\n",
       "   'union',\n",
       "   'update'],\n",
       "  24: {2},\n",
       "  25: {1, 2, 3},\n",
       "  26: {1},\n",
       "  27: {1, 3},\n",
       "  29: {2},\n",
       "  30: {1, 2, 3},\n",
       "  31: {1},\n",
       "  32: {1, 3},\n",
       "  35: {'__delitem__',\n",
       "   '__iadd__',\n",
       "   '__imul__',\n",
       "   '__reversed__',\n",
       "   '__setitem__',\n",
       "   'append',\n",
       "   'clear',\n",
       "   'copy',\n",
       "   'extend',\n",
       "   'insert',\n",
       "   'pop',\n",
       "   'remove',\n",
       "   'reverse',\n",
       "   'sort'},\n",
       "  39: dict_values([3, 1, 2]),\n",
       "  40: dict_keys(['c', 'a', 'b']),\n",
       "  41: dict_items([('c', 3), ('a', 1), ('b', 2)]),\n",
       "  43: True,\n",
       "  45: True,\n",
       "  46: {'a': 1, 'b': 2, 'c': 3},\n",
       "  47: False,\n",
       "  49: True,\n",
       "  57: {'a': 1, 'b': 2, 'c': 3},\n",
       "  64: <function globals()>},\n",
       " 'Sequence': collections.abc.Sequence,\n",
       " '_': <function globals()>,\n",
       " '_10': {1: 1, 'a': 3, 'b': 2},\n",
       " '_12': {(1, 2, 3): 1, 'a': 3, 'b': 2},\n",
       " '_13': {(1, 2, 3): 1, 'a': 3, 'b': 2},\n",
       " '_17': 3,\n",
       " '_19': ['__and__',\n",
       "  '__class__',\n",
       "  '__contains__',\n",
       "  '__delattr__',\n",
       "  '__dir__',\n",
       "  '__doc__',\n",
       "  '__eq__',\n",
       "  '__format__',\n",
       "  '__ge__',\n",
       "  '__getattribute__',\n",
       "  '__gt__',\n",
       "  '__hash__',\n",
       "  '__iand__',\n",
       "  '__init__',\n",
       "  '__ior__',\n",
       "  '__isub__',\n",
       "  '__iter__',\n",
       "  '__ixor__',\n",
       "  '__le__',\n",
       "  '__len__',\n",
       "  '__lt__',\n",
       "  '__ne__',\n",
       "  '__new__',\n",
       "  '__or__',\n",
       "  '__rand__',\n",
       "  '__reduce__',\n",
       "  '__reduce_ex__',\n",
       "  '__repr__',\n",
       "  '__ror__',\n",
       "  '__rsub__',\n",
       "  '__rxor__',\n",
       "  '__setattr__',\n",
       "  '__sizeof__',\n",
       "  '__str__',\n",
       "  '__sub__',\n",
       "  '__subclasshook__',\n",
       "  '__xor__',\n",
       "  'add',\n",
       "  'clear',\n",
       "  'copy',\n",
       "  'difference',\n",
       "  'difference_update',\n",
       "  'discard',\n",
       "  'intersection',\n",
       "  'intersection_update',\n",
       "  'isdisjoint',\n",
       "  'issubset',\n",
       "  'issuperset',\n",
       "  'pop',\n",
       "  'remove',\n",
       "  'symmetric_difference',\n",
       "  'symmetric_difference_update',\n",
       "  'union',\n",
       "  'update'],\n",
       " '_2': {'a': 1, 'b': 2},\n",
       " '_24': {2},\n",
       " '_25': {1, 2, 3},\n",
       " '_26': {1},\n",
       " '_27': {1, 3},\n",
       " '_29': {2},\n",
       " '_30': {1, 2, 3},\n",
       " '_31': {1},\n",
       " '_32': {1, 3},\n",
       " '_35': {'__delitem__',\n",
       "  '__iadd__',\n",
       "  '__imul__',\n",
       "  '__reversed__',\n",
       "  '__setitem__',\n",
       "  'append',\n",
       "  'clear',\n",
       "  'copy',\n",
       "  'extend',\n",
       "  'insert',\n",
       "  'pop',\n",
       "  'remove',\n",
       "  'reverse',\n",
       "  'sort'},\n",
       " '_39': dict_values([3, 1, 2]),\n",
       " '_4': {'a': 3, 'b': 2},\n",
       " '_40': dict_keys(['c', 'a', 'b']),\n",
       " '_41': dict_items([('c', 3), ('a', 1), ('b', 2)]),\n",
       " '_43': True,\n",
       " '_45': True,\n",
       " '_46': {'a': 1, 'b': 2, 'c': 3},\n",
       " '_47': False,\n",
       " '_49': True,\n",
       " '_57': {'a': 1, 'b': 2, 'c': 3},\n",
       " '_64': <function globals()>,\n",
       " '__': {'a': 1, 'b': 2, 'c': 3},\n",
       " '___': True,\n",
       " '__builtin__': <module 'builtins' (built-in)>,\n",
       " '__builtins__': <module 'builtins' (built-in)>,\n",
       " '__doc__': 'Automatically created module for IPython interactive environment',\n",
       " '__loader__': None,\n",
       " '__name__': '__main__',\n",
       " '__package__': None,\n",
       " '__spec__': None,\n",
       " '_dh': ['C:\\\\Users\\\\user\\\\K_data\\\\1week'],\n",
       " '_i': 'globals',\n",
       " '_i1': 'a = {\"a\": 1 , \"b\": 2}',\n",
       " '_i10': 'a',\n",
       " '_i11': 'a = {(1,2,3): 1 , \"b\": 2, \"a\":3}',\n",
       " '_i12': 'a',\n",
       " '_i13': 'a\\n# tuple도 key 값으로 가능',\n",
       " '_i14': 'a = {(1,[1,2,3],3): 1 , \"b\": 2, \"a\":3}',\n",
       " '_i15': 'a = {(1,[1,2,3],3): 1 , \"b\": 2, \"a\":3}\\n# 오류발생',\n",
       " '_i16': 'a = {(1,2,3): 1 , \"b\": 2, \"a\":3}',\n",
       " '_i17': 'len(a)',\n",
       " '_i18': 'a = {1,2,3}',\n",
       " '_i19': 'dir(a)',\n",
       " '_i2': 'a',\n",
       " '_i20': 'x = frozensetzenset() ',\n",
       " '_i21': 'x = frozenset() ',\n",
       " '_i22': 'a = {1,2}',\n",
       " '_i23': 'a = {1,2}\\nb = {2,3}',\n",
       " '_i24': 'a & b',\n",
       " '_i25': 'a | b',\n",
       " '_i26': 'a - b',\n",
       " '_i27': 'a ^ b',\n",
       " '_i28': 'x = frozenset() \\n# 집합의 연산자',\n",
       " '_i29': 'a & b\\n# 집합의 연산자',\n",
       " '_i3': 'a = {\"a\": 1 , \"b\": 2, \"a\":3}',\n",
       " '_i30': 'a | b',\n",
       " '_i31': 'a - b',\n",
       " '_i32': 'a ^ b',\n",
       " '_i33': 'x = [1]',\n",
       " '_i34': 'x = [1]\\ny = (1,)',\n",
       " '_i35': 'set(dir(x)) - set(dir(y))',\n",
       " '_i36': 'from collections.abc import Sequence',\n",
       " '_i37': '# 나만의 데이터 만들기\\nfrom collections.abc import Sequence',\n",
       " '_i38': 'a = {\"a\": 1 , \"b\": 2}',\n",
       " '_i39': 'a.values()',\n",
       " '_i4': 'a',\n",
       " '_i40': 'a.keys()',\n",
       " '_i41': 'a.items()',\n",
       " '_i42': \"help('in')\",\n",
       " '_i43': '3 in [1,2,3]',\n",
       " '_i44': \"3 in '123'\",\n",
       " '_i45': \"'3' in '123'\",\n",
       " '_i46': 'a',\n",
       " '_i47': '1 in a',\n",
       " '_i48': 'a in a',\n",
       " '_i49': \"'a' in a\",\n",
       " '_i5': '#  key는 하나만 있어야함 ',\n",
       " '_i50': 'for i in a:\\n    print(1)',\n",
       " '_i51': 'for i in a:\\n    print(i)',\n",
       " '_i52': 'for i in a.values():\\n    print(i)',\n",
       " '_i53': 'for i,j in a,items():\\n    print(i,j)',\n",
       " '_i54': 'for i,j in a.items():\\n    print(i,j)',\n",
       " '_i55': '# 순서가 없으면 이름으로 지정해야한다. \\n# ',\n",
       " '_i56': \"a['c']=3\",\n",
       " '_i57': 'a',\n",
       " '_i58': 'b = [1,2,3]',\n",
       " '_i59': 'b[3]',\n",
       " '_i6': '#  key는 하나만 있어야함, 유일해야함',\n",
       " '_i60': 'b[3] =4 ',\n",
       " '_i61': \"a['d']\",\n",
       " '_i62': 'xxxxx =3 ',\n",
       " '_i63': 'globlas',\n",
       " '_i64': 'globals',\n",
       " '_i65': 'globals()',\n",
       " '_i7': '#  key는 하나만 있어야함, 유일해야함\\n# key는 mutable type이 오면 안됨',\n",
       " '_i8': '#  key는 하나만 있어야함, 유일해야함\\n# key는 mutable type이 오면 안됨\\n# key는 set 자료구조에 기반함 ',\n",
       " '_i9': 'a = {1: 1 , \"b\": 2, \"a\":3}',\n",
       " '_ih': ['',\n",
       "  'a = {\"a\": 1 , \"b\": 2}',\n",
       "  'a',\n",
       "  'a = {\"a\": 1 , \"b\": 2, \"a\":3}',\n",
       "  'a',\n",
       "  '#  key는 하나만 있어야함 ',\n",
       "  '#  key는 하나만 있어야함, 유일해야함',\n",
       "  '#  key는 하나만 있어야함, 유일해야함\\n# key는 mutable type이 오면 안됨',\n",
       "  '#  key는 하나만 있어야함, 유일해야함\\n# key는 mutable type이 오면 안됨\\n# key는 set 자료구조에 기반함 ',\n",
       "  'a = {1: 1 , \"b\": 2, \"a\":3}',\n",
       "  'a',\n",
       "  'a = {(1,2,3): 1 , \"b\": 2, \"a\":3}',\n",
       "  'a',\n",
       "  'a\\n# tuple도 key 값으로 가능',\n",
       "  'a = {(1,[1,2,3],3): 1 , \"b\": 2, \"a\":3}',\n",
       "  'a = {(1,[1,2,3],3): 1 , \"b\": 2, \"a\":3}\\n# 오류발생',\n",
       "  'a = {(1,2,3): 1 , \"b\": 2, \"a\":3}',\n",
       "  'len(a)',\n",
       "  'a = {1,2,3}',\n",
       "  'dir(a)',\n",
       "  'x = frozensetzenset() ',\n",
       "  'x = frozenset() ',\n",
       "  'a = {1,2}',\n",
       "  'a = {1,2}\\nb = {2,3}',\n",
       "  'a & b',\n",
       "  'a | b',\n",
       "  'a - b',\n",
       "  'a ^ b',\n",
       "  'x = frozenset() \\n# 집합의 연산자',\n",
       "  'a & b\\n# 집합의 연산자',\n",
       "  'a | b',\n",
       "  'a - b',\n",
       "  'a ^ b',\n",
       "  'x = [1]',\n",
       "  'x = [1]\\ny = (1,)',\n",
       "  'set(dir(x)) - set(dir(y))',\n",
       "  'from collections.abc import Sequence',\n",
       "  '# 나만의 데이터 만들기\\nfrom collections.abc import Sequence',\n",
       "  'a = {\"a\": 1 , \"b\": 2}',\n",
       "  'a.values()',\n",
       "  'a.keys()',\n",
       "  'a.items()',\n",
       "  \"help('in')\",\n",
       "  '3 in [1,2,3]',\n",
       "  \"3 in '123'\",\n",
       "  \"'3' in '123'\",\n",
       "  'a',\n",
       "  '1 in a',\n",
       "  'a in a',\n",
       "  \"'a' in a\",\n",
       "  'for i in a:\\n    print(1)',\n",
       "  'for i in a:\\n    print(i)',\n",
       "  'for i in a.values():\\n    print(i)',\n",
       "  'for i,j in a,items():\\n    print(i,j)',\n",
       "  'for i,j in a.items():\\n    print(i,j)',\n",
       "  '# 순서가 없으면 이름으로 지정해야한다. \\n# ',\n",
       "  \"a['c']=3\",\n",
       "  'a',\n",
       "  'b = [1,2,3]',\n",
       "  'b[3]',\n",
       "  'b[3] =4 ',\n",
       "  \"a['d']\",\n",
       "  'xxxxx =3 ',\n",
       "  'globlas',\n",
       "  'globals',\n",
       "  'globals()'],\n",
       " '_ii': 'globlas',\n",
       " '_iii': 'xxxxx =3 ',\n",
       " '_oh': {2: {'a': 1, 'b': 2},\n",
       "  4: {'a': 3, 'b': 2},\n",
       "  10: {1: 1, 'a': 3, 'b': 2},\n",
       "  12: {(1, 2, 3): 1, 'a': 3, 'b': 2},\n",
       "  13: {(1, 2, 3): 1, 'a': 3, 'b': 2},\n",
       "  17: 3,\n",
       "  19: ['__and__',\n",
       "   '__class__',\n",
       "   '__contains__',\n",
       "   '__delattr__',\n",
       "   '__dir__',\n",
       "   '__doc__',\n",
       "   '__eq__',\n",
       "   '__format__',\n",
       "   '__ge__',\n",
       "   '__getattribute__',\n",
       "   '__gt__',\n",
       "   '__hash__',\n",
       "   '__iand__',\n",
       "   '__init__',\n",
       "   '__ior__',\n",
       "   '__isub__',\n",
       "   '__iter__',\n",
       "   '__ixor__',\n",
       "   '__le__',\n",
       "   '__len__',\n",
       "   '__lt__',\n",
       "   '__ne__',\n",
       "   '__new__',\n",
       "   '__or__',\n",
       "   '__rand__',\n",
       "   '__reduce__',\n",
       "   '__reduce_ex__',\n",
       "   '__repr__',\n",
       "   '__ror__',\n",
       "   '__rsub__',\n",
       "   '__rxor__',\n",
       "   '__setattr__',\n",
       "   '__sizeof__',\n",
       "   '__str__',\n",
       "   '__sub__',\n",
       "   '__subclasshook__',\n",
       "   '__xor__',\n",
       "   'add',\n",
       "   'clear',\n",
       "   'copy',\n",
       "   'difference',\n",
       "   'difference_update',\n",
       "   'discard',\n",
       "   'intersection',\n",
       "   'intersection_update',\n",
       "   'isdisjoint',\n",
       "   'issubset',\n",
       "   'issuperset',\n",
       "   'pop',\n",
       "   'remove',\n",
       "   'symmetric_difference',\n",
       "   'symmetric_difference_update',\n",
       "   'union',\n",
       "   'update'],\n",
       "  24: {2},\n",
       "  25: {1, 2, 3},\n",
       "  26: {1},\n",
       "  27: {1, 3},\n",
       "  29: {2},\n",
       "  30: {1, 2, 3},\n",
       "  31: {1},\n",
       "  32: {1, 3},\n",
       "  35: {'__delitem__',\n",
       "   '__iadd__',\n",
       "   '__imul__',\n",
       "   '__reversed__',\n",
       "   '__setitem__',\n",
       "   'append',\n",
       "   'clear',\n",
       "   'copy',\n",
       "   'extend',\n",
       "   'insert',\n",
       "   'pop',\n",
       "   'remove',\n",
       "   'reverse',\n",
       "   'sort'},\n",
       "  39: dict_values([3, 1, 2]),\n",
       "  40: dict_keys(['c', 'a', 'b']),\n",
       "  41: dict_items([('c', 3), ('a', 1), ('b', 2)]),\n",
       "  43: True,\n",
       "  45: True,\n",
       "  46: {'a': 1, 'b': 2, 'c': 3},\n",
       "  47: False,\n",
       "  49: True,\n",
       "  57: {'a': 1, 'b': 2, 'c': 3},\n",
       "  64: <function globals()>},\n",
       " 'a': {'a': 1, 'b': 2, 'c': 3},\n",
       " 'b': [1, 2, 3],\n",
       " 'exit': <IPython.core.autocall.ZMQExitAutocall at 0x251af5f35f8>,\n",
       " 'get_ipython': <bound method InteractiveShell.get_ipython of <ipykernel.zmqshell.ZMQInteractiveShell object at 0x00000251AE5A8F60>>,\n",
       " 'i': 'b',\n",
       " 'j': 2,\n",
       " 'quit': <IPython.core.autocall.ZMQExitAutocall at 0x251af5f35f8>,\n",
       " 'x': [1],\n",
       " 'xxxxx': 3,\n",
       " 'y': (1,)}"
      ]
     },
     "execution_count": 65,
     "metadata": {},
     "output_type": "execute_result"
    }
   ],
   "source": [
    "globals()"
   ]
  },
  {
   "cell_type": "code",
   "execution_count": 66,
   "metadata": {},
   "outputs": [],
   "source": [
    "#파이썬은 내부적으로 딕셔너리 "
   ]
  },
  {
   "cell_type": "code",
   "execution_count": 67,
   "metadata": {},
   "outputs": [],
   "source": [
    "a ={'a':1, 'b':2}"
   ]
  },
  {
   "cell_type": "code",
   "execution_count": 68,
   "metadata": {},
   "outputs": [
    {
     "data": {
      "text/plain": [
       "['__class__',\n",
       " '__contains__',\n",
       " '__delattr__',\n",
       " '__delitem__',\n",
       " '__dir__',\n",
       " '__doc__',\n",
       " '__eq__',\n",
       " '__format__',\n",
       " '__ge__',\n",
       " '__getattribute__',\n",
       " '__getitem__',\n",
       " '__gt__',\n",
       " '__hash__',\n",
       " '__init__',\n",
       " '__iter__',\n",
       " '__le__',\n",
       " '__len__',\n",
       " '__lt__',\n",
       " '__ne__',\n",
       " '__new__',\n",
       " '__reduce__',\n",
       " '__reduce_ex__',\n",
       " '__repr__',\n",
       " '__setattr__',\n",
       " '__setitem__',\n",
       " '__sizeof__',\n",
       " '__str__',\n",
       " '__subclasshook__',\n",
       " 'clear',\n",
       " 'copy',\n",
       " 'fromkeys',\n",
       " 'get',\n",
       " 'items',\n",
       " 'keys',\n",
       " 'pop',\n",
       " 'popitem',\n",
       " 'setdefault',\n",
       " 'update',\n",
       " 'values']"
      ]
     },
     "execution_count": 68,
     "metadata": {},
     "output_type": "execute_result"
    }
   ],
   "source": [
    "dir(a)"
   ]
  },
  {
   "cell_type": "code",
   "execution_count": 72,
   "metadata": {},
   "outputs": [
    {
     "data": {
      "text/plain": [
       "1"
      ]
     },
     "execution_count": 72,
     "metadata": {},
     "output_type": "execute_result"
    }
   ],
   "source": [
    "a.get('a',3)\n",
    "# a에 key가 없으면 3을 반환"
   ]
  },
  {
   "cell_type": "markdown",
   "metadata": {},
   "source": [
    "# 자료구조"
   ]
  },
  {
   "cell_type": "code",
   "execution_count": 75,
   "metadata": {},
   "outputs": [],
   "source": [
    "import collections"
   ]
  },
  {
   "cell_type": "code",
   "execution_count": 76,
   "metadata": {},
   "outputs": [
    {
     "data": {
      "text/plain": [
       "['AsyncIterable',\n",
       " 'AsyncIterator',\n",
       " 'Awaitable',\n",
       " 'ByteString',\n",
       " 'Callable',\n",
       " 'ChainMap',\n",
       " 'Container',\n",
       " 'Coroutine',\n",
       " 'Counter',\n",
       " 'Generator',\n",
       " 'Hashable',\n",
       " 'ItemsView',\n",
       " 'Iterable',\n",
       " 'Iterator',\n",
       " 'KeysView',\n",
       " 'Mapping',\n",
       " 'MappingView',\n",
       " 'MutableMapping',\n",
       " 'MutableSequence',\n",
       " 'MutableSet',\n",
       " 'OrderedDict',\n",
       " 'Sequence',\n",
       " 'Set',\n",
       " 'Sized',\n",
       " 'UserDict',\n",
       " 'UserList',\n",
       " 'UserString',\n",
       " 'ValuesView',\n",
       " '_Link',\n",
       " '_OrderedDictItemsView',\n",
       " '_OrderedDictKeysView',\n",
       " '_OrderedDictValuesView',\n",
       " '__all__',\n",
       " '__builtins__',\n",
       " '__cached__',\n",
       " '__doc__',\n",
       " '__file__',\n",
       " '__loader__',\n",
       " '__name__',\n",
       " '__package__',\n",
       " '__path__',\n",
       " '__spec__',\n",
       " '_chain',\n",
       " '_class_template',\n",
       " '_collections_abc',\n",
       " '_count_elements',\n",
       " '_eq',\n",
       " '_field_template',\n",
       " '_heapq',\n",
       " '_iskeyword',\n",
       " '_itemgetter',\n",
       " '_proxy',\n",
       " '_recursive_repr',\n",
       " '_repeat',\n",
       " '_repr_template',\n",
       " '_starmap',\n",
       " '_sys',\n",
       " 'abc',\n",
       " 'defaultdict',\n",
       " 'deque',\n",
       " 'namedtuple']"
      ]
     },
     "execution_count": 76,
     "metadata": {},
     "output_type": "execute_result"
    }
   ],
   "source": [
    "dir(collections)"
   ]
  },
  {
   "cell_type": "code",
   "execution_count": 77,
   "metadata": {},
   "outputs": [],
   "source": [
    "from collections import namedtuple"
   ]
  },
  {
   "cell_type": "code",
   "execution_count": null,
   "metadata": {},
   "outputs": [],
   "source": []
  },
  {
   "cell_type": "code",
   "execution_count": 78,
   "metadata": {},
   "outputs": [
    {
     "data": {
      "text/plain": [
       "__main__.Point"
      ]
     },
     "execution_count": 78,
     "metadata": {},
     "output_type": "execute_result"
    }
   ],
   "source": [
    "namedtuple('Point', ['x', 'y'])\n",
    "# __main__ => 현재 파일에 정의된 애 라는 뜻\n",
    "# 앞에 __main__이 붙으면 작업중이라는 것"
   ]
  },
  {
   "cell_type": "code",
   "execution_count": 79,
   "metadata": {},
   "outputs": [],
   "source": [
    "x = namedtuple('Point', ['x', 'y'])"
   ]
  },
  {
   "cell_type": "code",
   "execution_count": 80,
   "metadata": {},
   "outputs": [
    {
     "data": {
      "text/plain": [
       "type"
      ]
     },
     "execution_count": 80,
     "metadata": {},
     "output_type": "execute_result"
    }
   ],
   "source": [
    "type(x)\n",
    "# type은 메타클래스 "
   ]
  },
  {
   "cell_type": "code",
   "execution_count": 82,
   "metadata": {},
   "outputs": [],
   "source": [
    "a= 3"
   ]
  },
  {
   "cell_type": "code",
   "execution_count": 83,
   "metadata": {},
   "outputs": [
    {
     "data": {
      "text/plain": [
       "int"
      ]
     },
     "execution_count": 83,
     "metadata": {},
     "output_type": "execute_result"
    }
   ],
   "source": [
    "type(a)"
   ]
  },
  {
   "cell_type": "code",
   "execution_count": 86,
   "metadata": {},
   "outputs": [
    {
     "data": {
      "text/plain": [
       "type"
      ]
     },
     "execution_count": 86,
     "metadata": {},
     "output_type": "execute_result"
    }
   ],
   "source": [
    "type(int)\n",
    "# class의 type은 type 반환 "
   ]
  },
  {
   "cell_type": "code",
   "execution_count": 88,
   "metadata": {},
   "outputs": [],
   "source": [
    "Point = namedtuple('Point', ['x', 'y'])"
   ]
  },
  {
   "cell_type": "code",
   "execution_count": 89,
   "metadata": {},
   "outputs": [
    {
     "ename": "TypeError",
     "evalue": "__new__() missing 2 required positional arguments: 'x' and 'y'",
     "output_type": "error",
     "traceback": [
      "\u001b[1;31m---------------------------------------------------------------------------\u001b[0m",
      "\u001b[1;31mTypeError\u001b[0m                                 Traceback (most recent call last)",
      "\u001b[1;32m<ipython-input-89-45eef628f0cf>\u001b[0m in \u001b[0;36m<module>\u001b[1;34m\u001b[0m\n\u001b[1;32m----> 1\u001b[1;33m \u001b[0mp\u001b[0m \u001b[1;33m=\u001b[0m \u001b[0mPoint\u001b[0m\u001b[1;33m(\u001b[0m\u001b[1;33m)\u001b[0m\u001b[1;33m\u001b[0m\u001b[0m\n\u001b[0m",
      "\u001b[1;31mTypeError\u001b[0m: __new__() missing 2 required positional arguments: 'x' and 'y'"
     ]
    }
   ],
   "source": [
    "p = Point()"
   ]
  },
  {
   "cell_type": "code",
   "execution_count": 90,
   "metadata": {},
   "outputs": [],
   "source": [
    "p = Point(3,1)"
   ]
  },
  {
   "cell_type": "code",
   "execution_count": 91,
   "metadata": {},
   "outputs": [
    {
     "data": {
      "text/plain": [
       "Point(x=3, y=1)"
      ]
     },
     "execution_count": 91,
     "metadata": {},
     "output_type": "execute_result"
    }
   ],
   "source": [
    "p"
   ]
  },
  {
   "cell_type": "code",
   "execution_count": 93,
   "metadata": {},
   "outputs": [],
   "source": [
    "Point = namedtuple('Point2', ['x', 'y'])"
   ]
  },
  {
   "cell_type": "code",
   "execution_count": 94,
   "metadata": {},
   "outputs": [],
   "source": [
    "p = Point(3,1)"
   ]
  },
  {
   "cell_type": "code",
   "execution_count": 95,
   "metadata": {},
   "outputs": [
    {
     "data": {
      "text/plain": [
       "Point2(x=3, y=1)"
      ]
     },
     "execution_count": 95,
     "metadata": {},
     "output_type": "execute_result"
    }
   ],
   "source": [
    "p"
   ]
  },
  {
   "cell_type": "code",
   "execution_count": 96,
   "metadata": {},
   "outputs": [
    {
     "data": {
      "text/plain": [
       "3"
      ]
     },
     "execution_count": 96,
     "metadata": {},
     "output_type": "execute_result"
    }
   ],
   "source": [
    "p.x"
   ]
  },
  {
   "cell_type": "code",
   "execution_count": 97,
   "metadata": {},
   "outputs": [
    {
     "data": {
      "text/plain": [
       "1"
      ]
     },
     "execution_count": 97,
     "metadata": {},
     "output_type": "execute_result"
    }
   ],
   "source": [
    "p.y"
   ]
  },
  {
   "cell_type": "code",
   "execution_count": 98,
   "metadata": {},
   "outputs": [
    {
     "data": {
      "text/plain": [
       "3"
      ]
     },
     "execution_count": 98,
     "metadata": {},
     "output_type": "execute_result"
    }
   ],
   "source": [
    "p[0]"
   ]
  },
  {
   "cell_type": "code",
   "execution_count": 99,
   "metadata": {},
   "outputs": [
    {
     "data": {
      "text/plain": [
       "1"
      ]
     },
     "execution_count": 99,
     "metadata": {},
     "output_type": "execute_result"
    }
   ],
   "source": [
    "p[1]"
   ]
  },
  {
   "cell_type": "code",
   "execution_count": 100,
   "metadata": {},
   "outputs": [],
   "source": [
    "# 이름으로도 접근, tuple sequence 형태로 접근가능\n",
    "# 내가 원하는 객체를 빠르게 만들 수 있음. "
   ]
  },
  {
   "cell_type": "code",
   "execution_count": 103,
   "metadata": {},
   "outputs": [],
   "source": [
    "from collections import Counter"
   ]
  },
  {
   "cell_type": "code",
   "execution_count": 104,
   "metadata": {},
   "outputs": [
    {
     "data": {
      "text/plain": [
       "Counter({'a': 5, 'b': 4, 'c': 3, 'd': 2, 'e': 1})"
      ]
     },
     "execution_count": 104,
     "metadata": {},
     "output_type": "execute_result"
    }
   ],
   "source": [
    "Counter('abcdeabcdabcaba') "
   ]
  },
  {
   "cell_type": "code",
   "execution_count": 105,
   "metadata": {},
   "outputs": [],
   "source": [
    "t =  Counter('abcdeabcdabcaba') "
   ]
  },
  {
   "cell_type": "code",
   "execution_count": 106,
   "metadata": {},
   "outputs": [
    {
     "data": {
      "text/plain": [
       "['__add__',\n",
       " '__and__',\n",
       " '__class__',\n",
       " '__contains__',\n",
       " '__delattr__',\n",
       " '__delitem__',\n",
       " '__dict__',\n",
       " '__dir__',\n",
       " '__doc__',\n",
       " '__eq__',\n",
       " '__format__',\n",
       " '__ge__',\n",
       " '__getattribute__',\n",
       " '__getitem__',\n",
       " '__gt__',\n",
       " '__hash__',\n",
       " '__iadd__',\n",
       " '__iand__',\n",
       " '__init__',\n",
       " '__ior__',\n",
       " '__isub__',\n",
       " '__iter__',\n",
       " '__le__',\n",
       " '__len__',\n",
       " '__lt__',\n",
       " '__missing__',\n",
       " '__module__',\n",
       " '__ne__',\n",
       " '__neg__',\n",
       " '__new__',\n",
       " '__or__',\n",
       " '__pos__',\n",
       " '__reduce__',\n",
       " '__reduce_ex__',\n",
       " '__repr__',\n",
       " '__setattr__',\n",
       " '__setitem__',\n",
       " '__sizeof__',\n",
       " '__str__',\n",
       " '__sub__',\n",
       " '__subclasshook__',\n",
       " '__weakref__',\n",
       " '_keep_positive',\n",
       " 'clear',\n",
       " 'copy',\n",
       " 'elements',\n",
       " 'fromkeys',\n",
       " 'get',\n",
       " 'items',\n",
       " 'keys',\n",
       " 'most_common',\n",
       " 'pop',\n",
       " 'popitem',\n",
       " 'setdefault',\n",
       " 'subtract',\n",
       " 'update',\n",
       " 'values']"
      ]
     },
     "execution_count": 106,
     "metadata": {},
     "output_type": "execute_result"
    }
   ],
   "source": [
    "dir(t)"
   ]
  },
  {
   "cell_type": "code",
   "execution_count": 111,
   "metadata": {},
   "outputs": [
    {
     "data": {
      "text/plain": [
       "<bound method Counter.most_common of Counter({'a': 5, 'b': 4, 'c': 3, 'd': 2, 'e': 1})>"
      ]
     },
     "execution_count": 111,
     "metadata": {},
     "output_type": "execute_result"
    }
   ],
   "source": [
    "t.most_common\n",
    "# bound method는 괄호를 붙임"
   ]
  },
  {
   "cell_type": "code",
   "execution_count": 112,
   "metadata": {},
   "outputs": [
    {
     "data": {
      "text/plain": [
       "[('a', 5), ('b', 4), ('c', 3), ('d', 2), ('e', 1)]"
      ]
     },
     "execution_count": 112,
     "metadata": {},
     "output_type": "execute_result"
    }
   ],
   "source": [
    "t.most_common()"
   ]
  },
  {
   "cell_type": "code",
   "execution_count": 113,
   "metadata": {},
   "outputs": [],
   "source": [
    "from collections import defaultdict"
   ]
  },
  {
   "cell_type": "code",
   "execution_count": 132,
   "metadata": {},
   "outputs": [
    {
     "ename": "NameError",
     "evalue": "name 'default_factory' is not defined",
     "output_type": "error",
     "traceback": [
      "\u001b[1;31m---------------------------------------------------------------------------\u001b[0m",
      "\u001b[1;31mNameError\u001b[0m                                 Traceback (most recent call last)",
      "\u001b[1;32m<ipython-input-132-a3e77cd09586>\u001b[0m in \u001b[0;36m<module>\u001b[1;34m\u001b[0m\n\u001b[1;32m----> 1\u001b[1;33m \u001b[0mdefaultdict\u001b[0m\u001b[1;33m(\u001b[0m\u001b[0mdefault_factory\u001b[0m\u001b[1;33m[\u001b[0m\u001b[0mself\u001b[0m\u001b[1;33m,\u001b[0m \u001b[0ma\u001b[0m\u001b[1;33m,\u001b[0m \u001b[1;36m3\u001b[0m\u001b[1;33m]\u001b[0m\u001b[1;33m)\u001b[0m\u001b[1;33m\u001b[0m\u001b[0m\n\u001b[0m\u001b[0;32m      2\u001b[0m \u001b[1;31m# shfit tap 할 때 Init가 있으면 class, signature만 있으면 function\u001b[0m\u001b[1;33m\u001b[0m\u001b[1;33m\u001b[0m\u001b[0m\n\u001b[0;32m      3\u001b[0m \u001b[1;31m# init는 값을 만든다.\u001b[0m\u001b[1;33m\u001b[0m\u001b[1;33m\u001b[0m\u001b[0m\n",
      "\u001b[1;31mNameError\u001b[0m: name 'default_factory' is not defined"
     ]
    }
   ],
   "source": [
    "#Init signature: defaultdict(self, /, *args, **kwargs)\n",
    "# shfit tap 할 때 Init가 있으면 class, signature만 있으면 function\n",
    "# init는 값을 만든다. \n",
    "# /은 포지셔닝 방식에 사용\n",
    "# *은 "
   ]
  },
  {
   "cell_type": "code",
   "execution_count": 127,
   "metadata": {},
   "outputs": [
    {
     "data": {
      "text/plain": [
       "3"
      ]
     },
     "execution_count": 127,
     "metadata": {},
     "output_type": "execute_result"
    }
   ],
   "source": [
    "int(3)\n",
    "# 3을 만든다. "
   ]
  },
  {
   "cell_type": "code",
   "execution_count": 128,
   "metadata": {},
   "outputs": [
    {
     "data": {
      "text/plain": [
       "3.14"
      ]
     },
     "execution_count": 128,
     "metadata": {},
     "output_type": "execute_result"
    }
   ],
   "source": [
    "float(3.14)"
   ]
  },
  {
   "cell_type": "code",
   "execution_count": 129,
   "metadata": {},
   "outputs": [
    {
     "data": {
      "text/plain": [
       "{'a': 3, 'b': 4}"
      ]
     },
     "execution_count": 129,
     "metadata": {},
     "output_type": "execute_result"
    }
   ],
   "source": [
    "dict(a=3,b=4)"
   ]
  },
  {
   "cell_type": "code",
   "execution_count": 130,
   "metadata": {},
   "outputs": [
    {
     "data": {
      "text/plain": [
       "defaultdict(None, {'a': 3, 'b': 5})"
      ]
     },
     "execution_count": 130,
     "metadata": {},
     "output_type": "execute_result"
    }
   ],
   "source": [
    "defaultdict(a=3,b=5)"
   ]
  },
  {
   "cell_type": "code",
   "execution_count": null,
   "metadata": {},
   "outputs": [],
   "source": []
  }
 ],
 "metadata": {
  "kernelspec": {
   "display_name": "Python 3",
   "language": "python",
   "name": "python3"
  },
  "language_info": {
   "codemirror_mode": {
    "name": "ipython",
    "version": 3
   },
   "file_extension": ".py",
   "mimetype": "text/x-python",
   "name": "python",
   "nbconvert_exporter": "python",
   "pygments_lexer": "ipython3",
   "version": "3.5.6"
  }
 },
 "nbformat": 4,
 "nbformat_minor": 4
}
