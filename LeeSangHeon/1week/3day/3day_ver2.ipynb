{
 "cells": [
  {
   "cell_type": "code",
   "execution_count": 98,
   "metadata": {},
   "outputs": [],
   "source": [
    "from itertools import cycle, count, combinations, permutations, accumulate"
   ]
  },
  {
   "cell_type": "code",
   "execution_count": null,
   "metadata": {},
   "outputs": [],
   "source": []
  },
  {
   "cell_type": "code",
   "execution_count": 6,
   "metadata": {},
   "outputs": [
    {
     "data": {
      "text/plain": [
       "<itertools.cycle at 0x1ff75f18048>"
      ]
     },
     "execution_count": 6,
     "metadata": {},
     "output_type": "execute_result"
    }
   ],
   "source": [
    "a = cycle([1,2,3])\n",
    "a"
   ]
  },
  {
   "cell_type": "code",
   "execution_count": 7,
   "metadata": {},
   "outputs": [
    {
     "data": {
      "text/plain": [
       "['__class__',\n",
       " '__delattr__',\n",
       " '__dir__',\n",
       " '__doc__',\n",
       " '__eq__',\n",
       " '__format__',\n",
       " '__ge__',\n",
       " '__getattribute__',\n",
       " '__gt__',\n",
       " '__hash__',\n",
       " '__init__',\n",
       " '__init_subclass__',\n",
       " '__iter__',\n",
       " '__le__',\n",
       " '__lt__',\n",
       " '__ne__',\n",
       " '__new__',\n",
       " '__next__',\n",
       " '__reduce__',\n",
       " '__reduce_ex__',\n",
       " '__repr__',\n",
       " '__setattr__',\n",
       " '__setstate__',\n",
       " '__sizeof__',\n",
       " '__str__',\n",
       " '__subclasshook__']"
      ]
     },
     "execution_count": 7,
     "metadata": {},
     "output_type": "execute_result"
    }
   ],
   "source": [
    "dir(a)"
   ]
  },
  {
   "cell_type": "code",
   "execution_count": 19,
   "metadata": {},
   "outputs": [
    {
     "data": {
      "text/plain": [
       "3"
      ]
     },
     "execution_count": 19,
     "metadata": {},
     "output_type": "execute_result"
    }
   ],
   "source": [
    "next(a)\n",
    "# 3번 이상해도 오류가 안나고 cycle 돈다. "
   ]
  },
  {
   "cell_type": "code",
   "execution_count": 57,
   "metadata": {},
   "outputs": [],
   "source": [
    "b = count(3)\n",
    "b\n",
    "c= count(3,4)"
   ]
  },
  {
   "cell_type": "code",
   "execution_count": 41,
   "metadata": {},
   "outputs": [
    {
     "data": {
      "text/plain": [
       "['__class__',\n",
       " '__delattr__',\n",
       " '__dir__',\n",
       " '__doc__',\n",
       " '__eq__',\n",
       " '__format__',\n",
       " '__ge__',\n",
       " '__getattribute__',\n",
       " '__gt__',\n",
       " '__hash__',\n",
       " '__init__',\n",
       " '__init_subclass__',\n",
       " '__iter__',\n",
       " '__le__',\n",
       " '__lt__',\n",
       " '__ne__',\n",
       " '__new__',\n",
       " '__next__',\n",
       " '__reduce__',\n",
       " '__reduce_ex__',\n",
       " '__repr__',\n",
       " '__setattr__',\n",
       " '__sizeof__',\n",
       " '__str__',\n",
       " '__subclasshook__']"
      ]
     },
     "execution_count": 41,
     "metadata": {},
     "output_type": "execute_result"
    }
   ],
   "source": [
    "dir(b)"
   ]
  },
  {
   "cell_type": "code",
   "execution_count": 56,
   "metadata": {},
   "outputs": [
    {
     "data": {
      "text/plain": [
       "17"
      ]
     },
     "execution_count": 56,
     "metadata": {},
     "output_type": "execute_result"
    }
   ],
   "source": [
    "next(b)"
   ]
  },
  {
   "cell_type": "code",
   "execution_count": 59,
   "metadata": {},
   "outputs": [
    {
     "data": {
      "text/plain": [
       "7"
      ]
     },
     "execution_count": 59,
     "metadata": {},
     "output_type": "execute_result"
    }
   ],
   "source": [
    "next(c)"
   ]
  },
  {
   "cell_type": "code",
   "execution_count": 73,
   "metadata": {},
   "outputs": [
    {
     "data": {
      "text/plain": [
       "['__class__',\n",
       " '__delattr__',\n",
       " '__dir__',\n",
       " '__doc__',\n",
       " '__eq__',\n",
       " '__format__',\n",
       " '__ge__',\n",
       " '__getattribute__',\n",
       " '__gt__',\n",
       " '__hash__',\n",
       " '__init__',\n",
       " '__init_subclass__',\n",
       " '__iter__',\n",
       " '__le__',\n",
       " '__lt__',\n",
       " '__ne__',\n",
       " '__new__',\n",
       " '__next__',\n",
       " '__reduce__',\n",
       " '__reduce_ex__',\n",
       " '__repr__',\n",
       " '__setattr__',\n",
       " '__setstate__',\n",
       " '__sizeof__',\n",
       " '__str__',\n",
       " '__subclasshook__']"
      ]
     },
     "execution_count": 73,
     "metadata": {},
     "output_type": "execute_result"
    }
   ],
   "source": [
    "d = combinations([1,2,3,4],2)\n",
    "dir(d)"
   ]
  },
  {
   "cell_type": "code",
   "execution_count": 79,
   "metadata": {},
   "outputs": [
    {
     "data": {
      "text/plain": [
       "(3, 4)"
      ]
     },
     "execution_count": 79,
     "metadata": {},
     "output_type": "execute_result"
    }
   ],
   "source": [
    "next(d)"
   ]
  },
  {
   "cell_type": "code",
   "execution_count": 82,
   "metadata": {},
   "outputs": [
    {
     "data": {
      "text/plain": [
       "['__class__',\n",
       " '__delattr__',\n",
       " '__dir__',\n",
       " '__doc__',\n",
       " '__eq__',\n",
       " '__format__',\n",
       " '__ge__',\n",
       " '__getattribute__',\n",
       " '__gt__',\n",
       " '__hash__',\n",
       " '__init__',\n",
       " '__init_subclass__',\n",
       " '__iter__',\n",
       " '__le__',\n",
       " '__lt__',\n",
       " '__ne__',\n",
       " '__new__',\n",
       " '__next__',\n",
       " '__reduce__',\n",
       " '__reduce_ex__',\n",
       " '__repr__',\n",
       " '__setattr__',\n",
       " '__setstate__',\n",
       " '__sizeof__',\n",
       " '__str__',\n",
       " '__subclasshook__']"
      ]
     },
     "execution_count": 82,
     "metadata": {},
     "output_type": "execute_result"
    }
   ],
   "source": [
    "e=  permutations([1,2,3,4],2)\n",
    "dir(e)"
   ]
  },
  {
   "cell_type": "code",
   "execution_count": 97,
   "metadata": {},
   "outputs": [
    {
     "ename": "StopIteration",
     "evalue": "",
     "output_type": "error",
     "traceback": [
      "\u001b[1;31m---------------------------------------------------------------------------\u001b[0m",
      "\u001b[1;31mStopIteration\u001b[0m                             Traceback (most recent call last)",
      "\u001b[1;32m<ipython-input-97-4a9660f4a098>\u001b[0m in \u001b[0;36m<module>\u001b[1;34m\u001b[0m\n\u001b[1;32m----> 1\u001b[1;33m \u001b[0mnext\u001b[0m\u001b[1;33m(\u001b[0m\u001b[0me\u001b[0m\u001b[1;33m)\u001b[0m\u001b[1;33m\u001b[0m\u001b[1;33m\u001b[0m\u001b[0m\n\u001b[0m",
      "\u001b[1;31mStopIteration\u001b[0m: "
     ]
    }
   ],
   "source": [
    "next(e)"
   ]
  },
  {
   "cell_type": "code",
   "execution_count": 111,
   "metadata": {},
   "outputs": [],
   "source": [
    "f = accumulate([1,2,3,4])"
   ]
  },
  {
   "cell_type": "code",
   "execution_count": 108,
   "metadata": {},
   "outputs": [
    {
     "data": {
      "text/plain": [
       "['__class__',\n",
       " '__delattr__',\n",
       " '__dir__',\n",
       " '__doc__',\n",
       " '__eq__',\n",
       " '__format__',\n",
       " '__ge__',\n",
       " '__getattribute__',\n",
       " '__gt__',\n",
       " '__hash__',\n",
       " '__init__',\n",
       " '__init_subclass__',\n",
       " '__iter__',\n",
       " '__le__',\n",
       " '__lt__',\n",
       " '__ne__',\n",
       " '__new__',\n",
       " '__next__',\n",
       " '__reduce__',\n",
       " '__reduce_ex__',\n",
       " '__repr__',\n",
       " '__setattr__',\n",
       " '__setstate__',\n",
       " '__sizeof__',\n",
       " '__str__',\n",
       " '__subclasshook__']"
      ]
     },
     "execution_count": 108,
     "metadata": {},
     "output_type": "execute_result"
    }
   ],
   "source": [
    "dir(f)"
   ]
  },
  {
   "cell_type": "code",
   "execution_count": 116,
   "metadata": {},
   "outputs": [
    {
     "ename": "StopIteration",
     "evalue": "",
     "output_type": "error",
     "traceback": [
      "\u001b[1;31m---------------------------------------------------------------------------\u001b[0m",
      "\u001b[1;31mStopIteration\u001b[0m                             Traceback (most recent call last)",
      "\u001b[1;32m<ipython-input-116-aff1dd02a623>\u001b[0m in \u001b[0;36m<module>\u001b[1;34m\u001b[0m\n\u001b[1;32m----> 1\u001b[1;33m \u001b[0mnext\u001b[0m\u001b[1;33m(\u001b[0m\u001b[0mf\u001b[0m\u001b[1;33m)\u001b[0m\u001b[1;33m\u001b[0m\u001b[1;33m\u001b[0m\u001b[0m\n\u001b[0m",
      "\u001b[1;31mStopIteration\u001b[0m: "
     ]
    }
   ],
   "source": [
    "next(f)"
   ]
  },
  {
   "cell_type": "code",
   "execution_count": null,
   "metadata": {},
   "outputs": [],
   "source": []
  },
  {
   "cell_type": "markdown",
   "metadata": {},
   "source": [
    "# Lazy Evaluation\n",
    "- 파이썬에서 Iterable의 경우 Iterator로 변신시키면 구현하기 쉬움\n",
    "- 혹은 제너레이터를 만들거나 튜플형태의 컴프리핸션 형태를 만들어도 됨\n",
    "- 메모리를 효율적으로 관리함\n",
    "- "
   ]
  },
  {
   "cell_type": "code",
   "execution_count": 117,
   "metadata": {},
   "outputs": [],
   "source": [
    "a = {1}"
   ]
  },
  {
   "cell_type": "code",
   "execution_count": 118,
   "metadata": {},
   "outputs": [
    {
     "data": {
      "text/plain": [
       "['__and__',\n",
       " '__class__',\n",
       " '__contains__',\n",
       " '__delattr__',\n",
       " '__dir__',\n",
       " '__doc__',\n",
       " '__eq__',\n",
       " '__format__',\n",
       " '__ge__',\n",
       " '__getattribute__',\n",
       " '__gt__',\n",
       " '__hash__',\n",
       " '__iand__',\n",
       " '__init__',\n",
       " '__init_subclass__',\n",
       " '__ior__',\n",
       " '__isub__',\n",
       " '__iter__',\n",
       " '__ixor__',\n",
       " '__le__',\n",
       " '__len__',\n",
       " '__lt__',\n",
       " '__ne__',\n",
       " '__new__',\n",
       " '__or__',\n",
       " '__rand__',\n",
       " '__reduce__',\n",
       " '__reduce_ex__',\n",
       " '__repr__',\n",
       " '__ror__',\n",
       " '__rsub__',\n",
       " '__rxor__',\n",
       " '__setattr__',\n",
       " '__sizeof__',\n",
       " '__str__',\n",
       " '__sub__',\n",
       " '__subclasshook__',\n",
       " '__xor__',\n",
       " 'add',\n",
       " 'clear',\n",
       " 'copy',\n",
       " 'difference',\n",
       " 'difference_update',\n",
       " 'discard',\n",
       " 'intersection',\n",
       " 'intersection_update',\n",
       " 'isdisjoint',\n",
       " 'issubset',\n",
       " 'issuperset',\n",
       " 'pop',\n",
       " 'remove',\n",
       " 'symmetric_difference',\n",
       " 'symmetric_difference_update',\n",
       " 'union',\n",
       " 'update']"
      ]
     },
     "execution_count": 118,
     "metadata": {},
     "output_type": "execute_result"
    }
   ],
   "source": [
    "dir(a)"
   ]
  },
  {
   "cell_type": "code",
   "execution_count": 121,
   "metadata": {},
   "outputs": [
    {
     "data": {
      "text/plain": [
       "['__add__',\n",
       " '__class__',\n",
       " '__contains__',\n",
       " '__delattr__',\n",
       " '__delitem__',\n",
       " '__dir__',\n",
       " '__doc__',\n",
       " '__eq__',\n",
       " '__format__',\n",
       " '__ge__',\n",
       " '__getattribute__',\n",
       " '__getitem__',\n",
       " '__gt__',\n",
       " '__hash__',\n",
       " '__iadd__',\n",
       " '__imul__',\n",
       " '__init__',\n",
       " '__init_subclass__',\n",
       " '__iter__',\n",
       " '__le__',\n",
       " '__len__',\n",
       " '__lt__',\n",
       " '__mul__',\n",
       " '__ne__',\n",
       " '__new__',\n",
       " '__reduce__',\n",
       " '__reduce_ex__',\n",
       " '__repr__',\n",
       " '__reversed__',\n",
       " '__rmul__',\n",
       " '__setattr__',\n",
       " '__setitem__',\n",
       " '__sizeof__',\n",
       " '__str__',\n",
       " '__subclasshook__',\n",
       " 'append',\n",
       " 'clear',\n",
       " 'copy',\n",
       " 'count',\n",
       " 'extend',\n",
       " 'index',\n",
       " 'insert',\n",
       " 'pop',\n",
       " 'remove',\n",
       " 'reverse',\n",
       " 'sort']"
      ]
     },
     "execution_count": 121,
     "metadata": {},
     "output_type": "execute_result"
    }
   ],
   "source": [
    "a = [1,2]\n",
    "dir(a)\n",
    "# getitem 존재 => 인덱싱 가능한 것(sequence)"
   ]
  },
  {
   "cell_type": "markdown",
   "metadata": {},
   "source": [
    "# Iterator protocol \n",
    "- 두 가지 메소드가 있을 때 만약 상속받지 않고 구현한다면 Iterator처럼 쓸 수 있다, \n",
    "- duck typing과 관련된 내용 \n",
    "- __iter__와 __next__가 있다면 iterator\n"
   ]
  },
  {
   "cell_type": "code",
   "execution_count": null,
   "metadata": {},
   "outputs": [],
   "source": []
  },
  {
   "cell_type": "markdown",
   "metadata": {},
   "source": [
    "# Decorators\n",
    "- 기존의 func의 기능을 변경/확장할 수 있다.\n",
    "- 처음부터 만들필요가 없다. (상속 느낌)"
   ]
  },
  {
   "cell_type": "code",
   "execution_count": 125,
   "metadata": {},
   "outputs": [
    {
     "name": "stdout",
     "output_type": "stream",
     "text": [
      "foo\n"
     ]
    }
   ],
   "source": [
    "def foo():\n",
    "    print('foo')\n",
    "def bar(fn):\n",
    "    fn()\n",
    "bar(foo)"
   ]
  },
  {
   "cell_type": "markdown",
   "metadata": {},
   "source": [
    "#조건 <br>\n",
    "맨 밖에있는 함수는 첫번째 인자로 function을 받아야한다. <br>\n",
    "내부 코드안에서 처음에 인자로 받은 함수를 실행한다.+ 함수로 return한다 <br>\n",
    "\n",
    "#이런 꼴이면 @를 사용해서 생략할 수 있다. \n"
   ]
  },
  {
   "cell_type": "markdown",
   "metadata": {},
   "source": [
    "#실행\n",
    "@foo 아래에 있는 함수를 foo에 집어넣는다."
   ]
  },
  {
   "cell_type": "code",
   "execution_count": 126,
   "metadata": {},
   "outputs": [],
   "source": [
    "def foo(fn):\n",
    "    def inner():\n",
    "        print('About to call function.')\n",
    "        fn()\n",
    "        print('Finished calling function.') \n",
    "    return inner \n",
    " \n",
    "@foo \n",
    "def bar():\n",
    "    print('Calling function bar.')"
   ]
  },
  {
   "cell_type": "code",
   "execution_count": 132,
   "metadata": {},
   "outputs": [
    {
     "name": "stdout",
     "output_type": "stream",
     "text": [
      "About to call function.\n",
      "Calling function bar.\n",
      "Finished calling function.\n"
     ]
    }
   ],
   "source": [
    "bar()"
   ]
  },
  {
   "cell_type": "code",
   "execution_count": 131,
   "metadata": {},
   "outputs": [
    {
     "name": "stdout",
     "output_type": "stream",
     "text": [
      "About to call function.\n",
      "Calling function bar.\n",
      "Finished calling function.\n"
     ]
    },
    {
     "data": {
      "text/plain": [
       "<function __main__.foo.<locals>.inner()>"
      ]
     },
     "execution_count": 131,
     "metadata": {},
     "output_type": "execute_result"
    }
   ],
   "source": [
    "foo(bar())"
   ]
  },
  {
   "cell_type": "code",
   "execution_count": 148,
   "metadata": {},
   "outputs": [],
   "source": [
    "def author(func):\n",
    "    def inner():\n",
    "        print('by author')\n",
    "        func()\n",
    "    return inner\n"
   ]
  },
  {
   "cell_type": "code",
   "execution_count": 134,
   "metadata": {},
   "outputs": [],
   "source": [
    "def x():\n",
    "    print('sun')"
   ]
  },
  {
   "cell_type": "code",
   "execution_count": 135,
   "metadata": {},
   "outputs": [
    {
     "name": "stdout",
     "output_type": "stream",
     "text": [
      "sun\n"
     ]
    }
   ],
   "source": [
    "x()"
   ]
  },
  {
   "cell_type": "code",
   "execution_count": 136,
   "metadata": {},
   "outputs": [],
   "source": [
    "@author\n",
    "def x():\n",
    "    print('sun')"
   ]
  },
  {
   "cell_type": "code",
   "execution_count": 137,
   "metadata": {},
   "outputs": [
    {
     "name": "stdout",
     "output_type": "stream",
     "text": [
      "by author\n",
      "sun\n"
     ]
    }
   ],
   "source": [
    "x()"
   ]
  },
  {
   "cell_type": "code",
   "execution_count": 149,
   "metadata": {},
   "outputs": [],
   "source": [
    "@author\n",
    "def y(x):\n",
    "    print(x)"
   ]
  },
  {
   "cell_type": "code",
   "execution_count": 150,
   "metadata": {},
   "outputs": [
    {
     "ename": "TypeError",
     "evalue": "inner() takes 0 positional arguments but 1 was given",
     "output_type": "error",
     "traceback": [
      "\u001b[1;31m---------------------------------------------------------------------------\u001b[0m",
      "\u001b[1;31mTypeError\u001b[0m                                 Traceback (most recent call last)",
      "\u001b[1;32m<ipython-input-150-c2d0d1912eec>\u001b[0m in \u001b[0;36m<module>\u001b[1;34m\u001b[0m\n\u001b[1;32m----> 1\u001b[1;33m \u001b[0my\u001b[0m\u001b[1;33m(\u001b[0m\u001b[1;36m3\u001b[0m\u001b[1;33m)\u001b[0m\u001b[1;33m\u001b[0m\u001b[1;33m\u001b[0m\u001b[0m\n\u001b[0m\u001b[0;32m      2\u001b[0m \u001b[1;31m#에러발생 인자 개수가 달라서 (decorator 함수에서는 인자가 0개)\u001b[0m\u001b[1;33m\u001b[0m\u001b[1;33m\u001b[0m\u001b[1;33m\u001b[0m\u001b[0m\n",
      "\u001b[1;31mTypeError\u001b[0m: inner() takes 0 positional arguments but 1 was given"
     ]
    }
   ],
   "source": [
    "y(3)\n",
    "#에러발생 인자 개수가 달라서 (decorator 함수에서는 인자가 0개)"
   ]
  },
  {
   "cell_type": "code",
   "execution_count": 153,
   "metadata": {},
   "outputs": [],
   "source": [
    "def author(func):\n",
    "    def inner(t):\n",
    "        print('by author')\n",
    "        func(t)\n",
    "    return inner\n"
   ]
  },
  {
   "cell_type": "code",
   "execution_count": 147,
   "metadata": {},
   "outputs": [
    {
     "name": "stdout",
     "output_type": "stream",
     "text": [
      "by author\n",
      "3\n"
     ]
    }
   ],
   "source": [
    "y(3)"
   ]
  },
  {
   "cell_type": "code",
   "execution_count": 154,
   "metadata": {},
   "outputs": [],
   "source": [
    "@author\n",
    "def x():\n",
    "    print('sun')"
   ]
  },
  {
   "cell_type": "code",
   "execution_count": 155,
   "metadata": {},
   "outputs": [
    {
     "ename": "TypeError",
     "evalue": "inner() missing 1 required positional argument: 't'",
     "output_type": "error",
     "traceback": [
      "\u001b[1;31m---------------------------------------------------------------------------\u001b[0m",
      "\u001b[1;31mTypeError\u001b[0m                                 Traceback (most recent call last)",
      "\u001b[1;32m<ipython-input-155-08f9d0828de0>\u001b[0m in \u001b[0;36m<module>\u001b[1;34m\u001b[0m\n\u001b[1;32m----> 1\u001b[1;33m \u001b[0mx\u001b[0m\u001b[1;33m(\u001b[0m\u001b[1;33m)\u001b[0m\u001b[1;33m\u001b[0m\u001b[1;33m\u001b[0m\u001b[0m\n\u001b[0m",
      "\u001b[1;31mTypeError\u001b[0m: inner() missing 1 required positional argument: 't'"
     ]
    }
   ],
   "source": [
    "x()\n",
    "# 인자 없는게 안됨"
   ]
  },
  {
   "cell_type": "code",
   "execution_count": 156,
   "metadata": {},
   "outputs": [],
   "source": [
    "def author(func):\n",
    "    def inner(*t, **s):\n",
    "        print('by author')\n",
    "        func(*t,**s)\n",
    "    return inner\n"
   ]
  },
  {
   "cell_type": "code",
   "execution_count": 158,
   "metadata": {},
   "outputs": [],
   "source": [
    "@author\n",
    "def x():\n",
    "    print('sun')"
   ]
  },
  {
   "cell_type": "code",
   "execution_count": 159,
   "metadata": {},
   "outputs": [
    {
     "name": "stdout",
     "output_type": "stream",
     "text": [
      "by author\n",
      "sun\n"
     ]
    }
   ],
   "source": [
    "x()"
   ]
  },
  {
   "cell_type": "code",
   "execution_count": 160,
   "metadata": {},
   "outputs": [],
   "source": [
    "@author\n",
    "def y(x):\n",
    "    print(x)"
   ]
  },
  {
   "cell_type": "code",
   "execution_count": 161,
   "metadata": {},
   "outputs": [
    {
     "name": "stdout",
     "output_type": "stream",
     "text": [
      "by author\n",
      "3\n"
     ]
    }
   ],
   "source": [
    "y(3)"
   ]
  },
  {
   "cell_type": "code",
   "execution_count": 162,
   "metadata": {},
   "outputs": [],
   "source": [
    "#해결\n"
   ]
  },
  {
   "cell_type": "code",
   "execution_count": null,
   "metadata": {},
   "outputs": [],
   "source": []
  },
  {
   "cell_type": "code",
   "execution_count": 163,
   "metadata": {},
   "outputs": [],
   "source": [
    "def fa(func):\n",
    "    def inner(t):\n",
    "        func(t+100)\n",
    "    return inner\n"
   ]
  },
  {
   "cell_type": "code",
   "execution_count": 164,
   "metadata": {},
   "outputs": [],
   "source": [
    "@fa\n",
    "def y(x):\n",
    "    print('월급',x)"
   ]
  },
  {
   "cell_type": "code",
   "execution_count": 165,
   "metadata": {},
   "outputs": [
    {
     "name": "stdout",
     "output_type": "stream",
     "text": [
      "월급 200\n"
     ]
    }
   ],
   "source": [
    "y(100)"
   ]
  },
  {
   "cell_type": "code",
   "execution_count": 166,
   "metadata": {},
   "outputs": [],
   "source": [
    "# func받고 내부 인자를 *, **로 가변적으로 해주고 실행할 요소를 정해줌"
   ]
  },
  {
   "cell_type": "code",
   "execution_count": 167,
   "metadata": {},
   "outputs": [
    {
     "data": {
      "text/plain": [
       "'inner'"
      ]
     },
     "execution_count": 167,
     "metadata": {},
     "output_type": "execute_result"
    }
   ],
   "source": [
    "y.__name__"
   ]
  },
  {
   "cell_type": "code",
   "execution_count": null,
   "metadata": {},
   "outputs": [],
   "source": [
    "# warps & factoty "
   ]
  },
  {
   "cell_type": "code",
   "execution_count": 168,
   "metadata": {},
   "outputs": [],
   "source": [
    "from functools import wraps"
   ]
  },
  {
   "cell_type": "code",
   "execution_count": 175,
   "metadata": {},
   "outputs": [],
   "source": [
    "def wrapper(func):\n",
    "    @wraps(func)\n",
    "    def inner(*t, **s):\n",
    "        print('by author')\n",
    "        func(*t,**s)\n",
    "    return inner\n"
   ]
  },
  {
   "cell_type": "code",
   "execution_count": 176,
   "metadata": {},
   "outputs": [],
   "source": [
    "@wrapper\n",
    "def y(x):\n",
    "    print(\"!\")"
   ]
  },
  {
   "cell_type": "code",
   "execution_count": 177,
   "metadata": {},
   "outputs": [
    {
     "data": {
      "text/plain": [
       "'y'"
      ]
     },
     "execution_count": 177,
     "metadata": {},
     "output_type": "execute_result"
    }
   ],
   "source": [
    "y.__name__\n",
    "#wrap을 했더니 진짜 이름을 알려줌\n",
    "# "
   ]
  },
  {
   "cell_type": "code",
   "execution_count": 184,
   "metadata": {},
   "outputs": [],
   "source": [
    "def outer(tt):\n",
    "    def wrapper(func): \n",
    "        @wraps(func) \n",
    "        def inner(*t, **s):    \n",
    "            func(*t, **s)\n",
    "            print(tt)           \n",
    "        return inner    \n",
    "    return wrapper "
   ]
  },
  {
   "cell_type": "code",
   "execution_count": 185,
   "metadata": {},
   "outputs": [],
   "source": [
    "@outer(tt=3)\n",
    "def y(x):\n",
    "    print('x')"
   ]
  },
  {
   "cell_type": "code",
   "execution_count": 186,
   "metadata": {},
   "outputs": [
    {
     "name": "stdout",
     "output_type": "stream",
     "text": [
      "x\n",
      "3\n"
     ]
    }
   ],
   "source": [
    "y(3)"
   ]
  },
  {
   "cell_type": "code",
   "execution_count": 192,
   "metadata": {},
   "outputs": [],
   "source": [
    "def outer(tt):\n",
    "    def wrapper(func): \n",
    "        @wraps(func) \n",
    "        def inner(*t, **s): \n",
    "            if tt==0:\n",
    "                func(*t, **s)\n",
    "            else:\n",
    "                print(tt)  \n",
    "                func(*t, **s)\n",
    "        return inner    \n",
    "    return wrapper "
   ]
  },
  {
   "cell_type": "code",
   "execution_count": 193,
   "metadata": {},
   "outputs": [
    {
     "name": "stdout",
     "output_type": "stream",
     "text": [
      "3\n",
      "hello\n"
     ]
    }
   ],
   "source": [
    "@outer(3)\n",
    "def y(x):\n",
    "    print(\"hello\")\n",
    "y(3)"
   ]
  },
  {
   "cell_type": "code",
   "execution_count": 197,
   "metadata": {},
   "outputs": [
    {
     "name": "stdout",
     "output_type": "stream",
     "text": [
      "hello\n"
     ]
    }
   ],
   "source": [
    "@outer(0)\n",
    "def y(x):\n",
    "    print(\"hello\")\n",
    "y(3)"
   ]
  },
  {
   "cell_type": "code",
   "execution_count": null,
   "metadata": {},
   "outputs": [],
   "source": []
  },
  {
   "cell_type": "code",
   "execution_count": 201,
   "metadata": {},
   "outputs": [],
   "source": [
    "import tensorflow as tf\n",
    "import inspect"
   ]
  },
  {
   "cell_type": "code",
   "execution_count": 202,
   "metadata": {},
   "outputs": [
    {
     "name": "stdout",
     "output_type": "stream",
     "text": [
      "@tf_export(\"function\")\n",
      "def function(func=None,\n",
      "             input_signature=None,\n",
      "             autograph=True,\n",
      "             experimental_autograph_options=None,\n",
      "             experimental_relax_shapes=False):\n",
      "  \"\"\"Creates a callable TensorFlow graph from a Python function.\n",
      "\n",
      "  `function` constructs a callable that executes a TensorFlow graph\n",
      "  (`tf.Graph`) created by tracing the TensorFlow operations in `func`.\n",
      "  This allows the TensorFlow runtime to apply optimizations and exploit\n",
      "  parallelism in the computation defined by `func`.\n",
      "\n",
      "  _Example Usage_\n",
      "\n",
      "  ```python\n",
      "  def f(x, y):\n",
      "    return tf.reduce_mean(tf.multiply(x ** 2, 3) + y)\n",
      "\n",
      "  g = tf.function(f)\n",
      "\n",
      "  x = tf.constant([[2.0, 3.0]])\n",
      "  y = tf.constant([[3.0, -2.0]])\n",
      "\n",
      "  # `f` and `g` will return the same value, but `g` will be executed as a\n",
      "  # TensorFlow graph.\n",
      "  assert f(x, y).numpy() == g(x, y).numpy()\n",
      "\n",
      "  # Tensors and tf.Variables used by the Python function are captured in the\n",
      "  # graph.\n",
      "  @tf.function\n",
      "  def h():\n",
      "    return f(x, y)\n",
      "\n",
      "  assert (h().numpy() == f(x, y).numpy()).all()\n",
      "\n",
      "  # Data-dependent control flow is also captured in the graph. Supported\n",
      "  # control flow statements include `if`, `for`, `while`, `break`, `continue`,\n",
      "  # `return`.\n",
      "  @tf.function\n",
      "  def g(x):\n",
      "    if tf.reduce_sum(x) > 0:\n",
      "      return x * x\n",
      "    else:\n",
      "      return -x // 2\n",
      "\n",
      "  # print and TensorFlow side effects are supported, but exercise caution when\n",
      "  # using Python side effects like mutating objects, saving to files, etc.\n",
      "  l = []\n",
      "\n",
      "  @tf.function\n",
      "  def g(x):\n",
      "    for i in x:\n",
      "      print(i)                              # Works\n",
      "      tf.compat.v1.assign(v, i)                       # Works\n",
      "      tf.compat.v1.py_func(lambda i: l.append(i))(i)  # Works\n",
      "      l.append(i)                           # Caution! Doesn't work.\n",
      "  ```\n",
      "\n",
      "  Note that unlike other TensorFlow operations, we don't convert python\n",
      "  numerical inputs to tensors. Moreover, a new graph is generated for each\n",
      "  distinct python numerical value, for example calling `g(2)` and `g(3)` will\n",
      "  generate two new graphs (while only one is generated if you call\n",
      "  `g(tf.constant(2))` and `g(tf.constant(3))`). Therefore, python numerical\n",
      "  inputs should be restricted to arguments that will have few distinct values,\n",
      "  such as hyperparameters like the number of layers in a neural network. This\n",
      "  allows TensorFlow to optimize each variant of the neural network.\n",
      "\n",
      "  _Referencing `tf.Variable`s_\n",
      "\n",
      "  The Python function `func` may reference stateful objects (such as\n",
      "  `tf.Variable`).\n",
      "  These are captured as implicit inputs to the callable returned by `function`.\n",
      "  For example:\n",
      "\n",
      "  ```python\n",
      "  c = tf.Variable(0)\n",
      "\n",
      "  @tf.function\n",
      "  def f(x):\n",
      "    c.assign_add(1)\n",
      "    return x + tf.compat.v1.to_float(c)\n",
      "\n",
      "  assert int(c) == 0\n",
      "  assert f(1.0) == 2.0\n",
      "  assert int(c) == 1\n",
      "  assert f(1.0) == 3.0\n",
      "  assert int(c) == 2\n",
      "  ```\n",
      "\n",
      "  `function` can be applied to methods of an object. For example:\n",
      "\n",
      "  ```python\n",
      "  class Dense(object):\n",
      "    def __init__(self):\n",
      "      self.W = tf.Variable(tf.compat.v1.glorot_uniform_initializer()((10, 10)))\n",
      "      self.b = tf.Variable(tf.zeros(10))\n",
      "\n",
      "    @tf.function\n",
      "    def compute(self, x):\n",
      "      return tf.matmul(x, self.W) + self.b\n",
      "\n",
      "  d1 = Dense()\n",
      "  d2 = Dense()\n",
      "  x = tf.random.uniform((10, 10))\n",
      "  # d1 and d2 are using distinct variables\n",
      "  assert not (d1.compute(x).numpy() == d2.compute(x).numpy()).all()\n",
      "  ```\n",
      "\n",
      "  _Usage with `tf.keras`_\n",
      "\n",
      "  The `call` methods of a `tf.keras.Model` subclass can be decorated with\n",
      "  `function` in order to apply graph execution optimizations on it.\n",
      "  For example:\n",
      "\n",
      "  ```python\n",
      "  class MyModel(tf.keras.Model):\n",
      "    def __init__(self, keep_probability=0.2):\n",
      "      super(MyModel, self).__init__()\n",
      "      self.dense1 = tf.keras.layers.Dense(4)\n",
      "      self.dense2 = tf.keras.layers.Dense(5)\n",
      "      self.keep_probability = keep_probability\n",
      "\n",
      "    @tf.function\n",
      "    def call(self, inputs, training=True):\n",
      "      y = self.dense2(self.dense1(inputs))\n",
      "      if training:\n",
      "        return tf.nn.dropout(y, self.keep_probability)\n",
      "      else:\n",
      "        return y\n",
      "\n",
      "  model = MyModel()\n",
      "  model(x, training=True)  # executes a graph, with dropout\n",
      "  model(x, training=False) # executes a graph, without dropout\n",
      "  ```\n",
      "\n",
      "  _Input Signatures_\n",
      "\n",
      "  `function` instantiates a separate graph for every unique set of input\n",
      "  shapes and datatypes. For example, the following code snippet will result\n",
      "  in three distinct graphs being traced, as each input has a different\n",
      "  shape.\n",
      "\n",
      "  ```python\n",
      "  @tf.function\n",
      "  def f(x): return tf.add(x, 1.)\n",
      "\n",
      "  scalar = tf.constant(1.0)\n",
      "  vector = tf.constant([1.0, 1.0])\n",
      "  matrix = tf.constant([[3.0]])\n",
      "\n",
      "  f(scalar)\n",
      "  f(vector)\n",
      "  f(matrix)\n",
      "  ```\n",
      "\n",
      "  An \"input signature\" can be optionally provided to `function` to control\n",
      "  the graphs traced. The input signature specifies the shape and type of each\n",
      "  `Tensor` argument to the function using a `tf.TensorSpec` object. For example,\n",
      "  the following code snippet ensures that a single graph is created where the\n",
      "  input `Tensor` is required to be a floating point tensor with no restrictions\n",
      "  on shape.\n",
      "\n",
      "  ```python\n",
      "  @tf.function(input_signature=[tf.TensorSpec(shape=None, dtype=tf.float32)])\n",
      "  def f(x): return tf.add(x, 1.)\n",
      "  ```\n",
      "\n",
      "  When an `input_signature` is specified, the callable will convert the inputs\n",
      "  to the specified TensorSpecs.\n",
      "\n",
      "  _Tracing and staging_\n",
      "\n",
      "  When `autograph` is `True`, all Python control flow that depends on `Tensor`\n",
      "  values is staged into a TensorFlow graph. When `autograph` is `False`, the\n",
      "  function is traced and control flow is not allowed to depend on data.\n",
      "\n",
      "  Note that `function` only stages TensorFlow operations, all Python code that\n",
      "  `func` executes and does not depend on data will shape the _construction_ of\n",
      "  the graph.\n",
      "  For example, consider the following:\n",
      "\n",
      "  ```python\n",
      "  import numpy as np\n",
      "\n",
      "  def add_noise():\n",
      "    return tf.eye(5) + np.random.randn(5, 5)\n",
      "\n",
      "  traced = tf.function(add_noise)\n",
      "  ```\n",
      "\n",
      "  `add_noise()` will return a different output every time it is invoked.\n",
      "  However, `traced()` will return the same value every time it is called,\n",
      "  since a particular random value generated by the `np.random.randn` call will\n",
      "  be inserted in the traced/staged TensorFlow graph as a constant. In this\n",
      "  particular example, replacing `np.random.randn(5, 5)` with\n",
      "  `tf.random.normal((5, 5))` will result in the same behavior for `add_noise()`\n",
      "  and `traced()`.\n",
      "\n",
      "  _Python Side-Effects_\n",
      "\n",
      "  A corollary of the previous discussion on tracing is the following: If a\n",
      "  Python function `func` has Python side-effects, then executing `func` multiple\n",
      "  times may not be semantically equivalent to executing `F = tf.function(func)`\n",
      "  multiple times; this difference is due to the fact that `function` only\n",
      "  captures the subgraph of TensorFlow operations that is constructed when `func`\n",
      "  is invoked to trace a graph.\n",
      "\n",
      "  The same is true if code with Python side effects is used inside control flow,\n",
      "  such as a loop. If your code uses side effects that are not intended to\n",
      "  control graph construction, wrap them inside `tf.compat.v1.py_func`.\n",
      "\n",
      "  _Retracing_\n",
      "\n",
      "  A single tf.function object might need to map to multiple computation graphs\n",
      "  under the hood. This should be visible only as performance (tracing graphs has\n",
      "  a nonzero computational and memory cost) but should not affect the correctness\n",
      "  of the program. A traced function should return the same result as it would\n",
      "  when run eagerly, assuming no unintended Python side-effects.\n",
      "\n",
      "  Calling a `tf.function` with tensor arguments of different dtypes should lead\n",
      "  to at least one computational graph per distinct set of dtypes. Alternatively,\n",
      "  always calling a `tf.function` with tensor arguments of the same shapes and\n",
      "  dtypes and the same non-tensor arguments should not lead to additional\n",
      "  retracings of your function.\n",
      "\n",
      "  Other than that, TensorFlow reserves the right to retrace functions as many\n",
      "  times as needed, to ensure that traced functions behave as they would when run\n",
      "  eagerly and to provide the best end-to-end performance. For example, the\n",
      "  behavior of how many traces TensorFlow will do when the function is repeatedly\n",
      "  called with different python scalars as arguments is left undefined to allow\n",
      "  for future optimizations.\n",
      "\n",
      "  To control the tracing behavior, use the following tools:\n",
      "   - different `tf.function` objects are guaranteed to not share traces; and\n",
      "   - specifying a signature or using concrete function objects returned from\n",
      "     get_concrete_function() guarantees that only one function graph will be\n",
      "     built.\n",
      "\n",
      "  Args:\n",
      "    func: function to be compiled. If `func` is None, returns a decorator that\n",
      "      can be invoked with a single argument - `func`. The end result is\n",
      "      equivalent to providing all the arguments up front. In other words,\n",
      "      `tf.function(input_signature=...)(func)` is equivalent to\n",
      "      `tf.function(func, input_signature=...)`. The former can be used to\n",
      "      decorate Python functions, for example:\n",
      "        @tf.function(input_signature=...)\n",
      "        def foo(...): ...\n",
      "    input_signature: A possibly nested sequence of `tf.TensorSpec` objects\n",
      "      specifying the shapes and dtypes of the Tensors that will be supplied to\n",
      "      this function. If `None`, a separate function is instantiated for each\n",
      "      inferred input signature.  If input_signature is specified, every input to\n",
      "      `func` must be a `Tensor`, and `func` cannot accept `**kwargs`.\n",
      "    autograph: Whether autograph should be applied on `func` before tracing a\n",
      "      graph. This allows for dynamic control flow (Python if's, loops etc.)\n",
      "      in the traced graph. See https://www.tensorflow.org/guide/autograph for\n",
      "        more information.\n",
      "    experimental_autograph_options: Experimental knobs (in the form of a tuple\n",
      "      of tensorflow.autograph.Feature values) to control behavior when\n",
      "      autograph=True.\n",
      "    experimental_relax_shapes: When true, argument shapes may be relaxed to\n",
      "      avoid unecessary retracing.\n",
      "\n",
      "  Returns:\n",
      "     If `func` is not None, returns a callable that will execute the compiled\n",
      "     function (and return zero or more `tf.Tensor` objects).\n",
      "     If `func` is None, returns a decorator that, when invoked with a single\n",
      "     `func` argument, returns a callable equivalent to the case above.\n",
      "\n",
      "  Raises:\n",
      "    TypeError: If `input_signature` is neither `None` nor a sequence of\n",
      "      `TensorSpec` objects.\n",
      "  \"\"\"\n",
      "  if input_signature is not None:\n",
      "    function_lib.validate_signature(input_signature)\n",
      "\n",
      "  def decorated(inner_function):\n",
      "    try:\n",
      "      name = inner_function.__name__\n",
      "    except AttributeError:\n",
      "      name = \"function\"\n",
      "    return tf_decorator.make_decorator(\n",
      "        inner_function,\n",
      "        Function(\n",
      "            inner_function,\n",
      "            name,\n",
      "            input_signature=input_signature,\n",
      "            autograph=autograph,\n",
      "            experimental_autograph_options=experimental_autograph_options,\n",
      "            experimental_relax_shapes=experimental_relax_shapes))\n",
      "\n",
      "  # This code path is for the `foo = tf.function(foo, ...)` use case\n",
      "  if func is not None:\n",
      "    return decorated(func)\n",
      "\n",
      "  # This code path is for the\n",
      "  #\n",
      "  # @tf.function(...)\n",
      "  # def foo(...):\n",
      "  #    ...\n",
      "  #\n",
      "  # use case, which is equivalent to `foo = tf.function(...)(foo)`\n",
      "  return decorated\n",
      "\n"
     ]
    }
   ],
   "source": [
    "print(inspect.getsource(tf.function))"
   ]
  },
  {
   "cell_type": "code",
   "execution_count": null,
   "metadata": {},
   "outputs": [],
   "source": []
  },
  {
   "cell_type": "code",
   "execution_count": null,
   "metadata": {},
   "outputs": [],
   "source": []
  },
  {
   "cell_type": "code",
   "execution_count": null,
   "metadata": {},
   "outputs": [],
   "source": []
  },
  {
   "cell_type": "code",
   "execution_count": null,
   "metadata": {},
   "outputs": [],
   "source": []
  }
 ],
 "metadata": {
  "kernelspec": {
   "display_name": "Python 3",
   "language": "python",
   "name": "python3"
  },
  "language_info": {
   "codemirror_mode": {
    "name": "ipython",
    "version": 3
   },
   "file_extension": ".py",
   "mimetype": "text/x-python",
   "name": "python",
   "nbconvert_exporter": "python",
   "pygments_lexer": "ipython3",
   "version": "3.7.4"
  }
 },
 "nbformat": 4,
 "nbformat_minor": 2
}
